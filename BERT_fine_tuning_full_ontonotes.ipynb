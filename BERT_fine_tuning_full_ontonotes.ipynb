{
 "cells": [
  {
   "cell_type": "markdown",
   "metadata": {
    "colab_type": "text",
    "id": "EKOTlwcmxmej"
   },
   "source": [
    "# Finetuning a Masked Language BERT Model using Huggingface\n",
    "\n",
    "Adapted from the work done by Chris McCormick and Nick Ryan"
   ]
  },
  {
   "cell_type": "markdown",
   "metadata": {
    "colab_type": "text",
    "id": "BJR6t_gCQe_x"
   },
   "source": [
    "See the original guide as a blog post [here](http://mccormickml.com/2019/07/22/BERT-fine-tuning/) and as a Colab Notebook [here](https://colab.research.google.com/drive/1Y4o3jh3ZH70tl6mCd76vz_IxX23biCPP). "
   ]
  },
  {
   "cell_type": "markdown",
   "metadata": {
    "colab_type": "text",
    "id": "jrC9__lXxTJz"
   },
   "source": [
    "# Check Data is present"
   ]
  },
  {
   "cell_type": "markdown",
   "metadata": {},
   "source": [
    "This notebook runs on the output of the `process_ontonotes.ipynb`. Be sure to run this in the same directory "
   ]
  },
  {
   "cell_type": "markdown",
   "metadata": {
    "colab_type": "text",
    "id": "cMj1ly37_Hb4"
   },
   "source": [
    "Link google drive account to save models"
   ]
  },
  {
   "cell_type": "code",
   "execution_count": 0,
   "metadata": {
    "colab": {
     "base_uri": "https://localhost:8080/",
     "height": 124
    },
    "colab_type": "code",
    "collapsed": false,
    "id": "qzK45ct3zSe8",
    "outputId": "6febe00a-655f-496e-941f-50879139aff9"
   },
   "outputs": [
    {
     "name": "stdout",
     "output_type": "stream",
     "text": [
      "Go to this URL in a browser: https://accounts.google.com/o/oauth2/auth?client_id=947318989803-6bn6qk8qdgf4n4g3pfee6491hc0brc4i.apps.googleusercontent.com&redirect_uri=urn%3aietf%3awg%3aoauth%3a2.0%3aoob&response_type=code&scope=email%20https%3a%2f%2fwww.googleapis.com%2fauth%2fdocs.test%20https%3a%2f%2fwww.googleapis.com%2fauth%2fdrive%20https%3a%2f%2fwww.googleapis.com%2fauth%2fdrive.photos.readonly%20https%3a%2f%2fwww.googleapis.com%2fauth%2fpeopleapi.readonly\n",
      "\n",
      "Enter your authorization code:\n",
      "··········\n",
      "Mounted at /content/drive\n"
     ]
    }
   ],
   "source": [
    "from google.colab import drive\n",
    "drive.mount('/content/drive')"
   ]
  },
  {
   "cell_type": "markdown",
   "metadata": {
    "colab_type": "text",
    "id": "VQDqrAeL_Mtr"
   },
   "source": [
    "Activate function for saving models and tokenizer post training"
   ]
  },
  {
   "cell_type": "code",
   "execution_count": 0,
   "metadata": {
    "colab": {},
    "colab_type": "code",
    "collapsed": true,
    "id": "EhaFctXeCqx_"
   },
   "outputs": [],
   "source": [
    "import os\n",
    "\n",
    "# Saving best-practices: if you use defaults names for the model, you can reload it using from_pretrained()\n",
    "def save_model(processed_model, epoch, lr, eps):\n",
    "  output_dir = './drive/My Drive/playground/model_save/debias/full/lr_{}_eps_{}/epoch_{}/'.format(lr, eps, epoch)\n",
    "\n",
    "  # Create output directory if needed\n",
    "  if not os.path.exists(output_dir):\n",
    "      os.makedirs(output_dir)\n",
    "\n",
    "  print(\"Saving model to %s\" % output_dir)\n",
    "\n",
    "  # Save a trained model, configuration and tokenizer using `save_pretrained()`.\n",
    "  # They can then be reloaded using `from_pretrained()`\n",
    "  model_to_save = processed_model.module if hasattr(processed_model, 'module') else processed_model  # Take care of distributed/parallel training\n",
    "  model_to_save.save_pretrained(output_dir)\n",
    "  tokenizer.save_pretrained(output_dir)\n",
    "\n",
    "  # Good practice: save your training arguments together with the trained model\n",
    "  torch.save([epoch, lr, eps], os.path.join(output_dir, 'training_args.bin'))"
   ]
  },
  {
   "cell_type": "markdown",
   "metadata": {
    "colab_type": "text",
    "id": "RX_ZDhicpHkV"
   },
   "source": [
    "# 1. Setup"
   ]
  },
  {
   "cell_type": "markdown",
   "metadata": {
    "colab_type": "text",
    "id": "nSU7yERLP_66"
   },
   "source": [
    "## 1.1. Using Colab GPU for Training\n"
   ]
  },
  {
   "cell_type": "markdown",
   "metadata": {
    "colab_type": "text",
    "id": "GI0iOY8zvZzL"
   },
   "source": [
    "Check GPU is activated"
   ]
  },
  {
   "cell_type": "code",
   "execution_count": 0,
   "metadata": {
    "colab": {
     "base_uri": "https://localhost:8080/",
     "height": 34
    },
    "colab_type": "code",
    "collapsed": false,
    "id": "DEfSbAA4QHas",
    "outputId": "59ac07f6-9972-4179-db42-2a631e87af62"
   },
   "outputs": [
    {
     "name": "stdout",
     "output_type": "stream",
     "text": [
      "Found GPU at: /device:GPU:0\n"
     ]
    }
   ],
   "source": [
    "import tensorflow as tf\n",
    "\n",
    "# Get the GPU device name.\n",
    "device_name = tf.test.gpu_device_name()\n",
    "\n",
    "# The device name should look like the following:\n",
    "if device_name == '/device:GPU:0':\n",
    "    print('Found GPU at: {}'.format(device_name))\n",
    "else:\n",
    "    raise SystemError('GPU device not found')"
   ]
  },
  {
   "cell_type": "markdown",
   "metadata": {
    "colab_type": "text",
    "id": "cqG7FzRVFEIv"
   },
   "source": [
    "In order for torch to use the GPU, we need to identify and specify the GPU as the device. Later, in our training loop, we will load data onto the device. "
   ]
  },
  {
   "cell_type": "code",
   "execution_count": 0,
   "metadata": {
    "colab": {
     "base_uri": "https://localhost:8080/",
     "height": 52
    },
    "colab_type": "code",
    "collapsed": false,
    "id": "oYsV4H8fCpZ-",
    "outputId": "8a375463-21f6-48a1-8592-9c9529a8790d"
   },
   "outputs": [
    {
     "name": "stdout",
     "output_type": "stream",
     "text": [
      "There are 1 GPU(s) available.\n",
      "We will use the GPU: Tesla T4\n"
     ]
    }
   ],
   "source": [
    "import torch\n",
    "\n",
    "# If there's a GPU available...\n",
    "if torch.cuda.is_available():    \n",
    "\n",
    "    # Tell PyTorch to use the GPU.   \n",
    "    torch.cuda.empty_cache()\n",
    "    device = torch.device(\"cuda\")\n",
    "    torch.cuda.empty_cache()\n",
    "\n",
    "\n",
    "    print('There are %d GPU(s) available.' % torch.cuda.device_count())\n",
    "    print('We will use the GPU:', torch.cuda.get_device_name(0))\n",
    "\n",
    "# If not...\n",
    "else:\n",
    "    print('No GPU available, using the CPU instead.')\n",
    "    device = torch.device(\"cpu\")"
   ]
  },
  {
   "cell_type": "markdown",
   "metadata": {
    "colab_type": "text",
    "id": "2ElsnSNUridI"
   },
   "source": [
    "## 1.2. Installing the Hugging Face Library\n"
   ]
  },
  {
   "cell_type": "code",
   "execution_count": 0,
   "metadata": {
    "colab": {
     "base_uri": "https://localhost:8080/",
     "height": 427
    },
    "colab_type": "code",
    "collapsed": false,
    "id": "0NmMdkZO8R6q",
    "outputId": "3b64b63a-4bb5-4baf-83a8-bc3cafb36cc6"
   },
   "outputs": [
    {
     "name": "stdout",
     "output_type": "stream",
     "text": [
      "Requirement already satisfied: transformers in /usr/local/lib/python3.6/dist-packages (2.5.1)\n",
      "Requirement already satisfied: tqdm>=4.27 in /usr/local/lib/python3.6/dist-packages (from transformers) (4.28.1)\n",
      "Requirement already satisfied: sentencepiece in /usr/local/lib/python3.6/dist-packages (from transformers) (0.1.85)\n",
      "Requirement already satisfied: tokenizers==0.5.2 in /usr/local/lib/python3.6/dist-packages (from transformers) (0.5.2)\n",
      "Requirement already satisfied: regex!=2019.12.17 in /usr/local/lib/python3.6/dist-packages (from transformers) (2019.12.20)\n",
      "Requirement already satisfied: filelock in /usr/local/lib/python3.6/dist-packages (from transformers) (3.0.12)\n",
      "Requirement already satisfied: sacremoses in /usr/local/lib/python3.6/dist-packages (from transformers) (0.0.38)\n",
      "Requirement already satisfied: boto3 in /usr/local/lib/python3.6/dist-packages (from transformers) (1.11.15)\n",
      "Requirement already satisfied: numpy in /usr/local/lib/python3.6/dist-packages (from transformers) (1.17.5)\n",
      "Requirement already satisfied: requests in /usr/local/lib/python3.6/dist-packages (from transformers) (2.21.0)\n",
      "Requirement already satisfied: joblib in /usr/local/lib/python3.6/dist-packages (from sacremoses->transformers) (0.14.1)\n",
      "Requirement already satisfied: six in /usr/local/lib/python3.6/dist-packages (from sacremoses->transformers) (1.12.0)\n",
      "Requirement already satisfied: click in /usr/local/lib/python3.6/dist-packages (from sacremoses->transformers) (7.0)\n",
      "Requirement already satisfied: jmespath<1.0.0,>=0.7.1 in /usr/local/lib/python3.6/dist-packages (from boto3->transformers) (0.9.4)\n",
      "Requirement already satisfied: botocore<1.15.0,>=1.14.15 in /usr/local/lib/python3.6/dist-packages (from boto3->transformers) (1.14.15)\n",
      "Requirement already satisfied: s3transfer<0.4.0,>=0.3.0 in /usr/local/lib/python3.6/dist-packages (from boto3->transformers) (0.3.3)\n",
      "Requirement already satisfied: idna<2.9,>=2.5 in /usr/local/lib/python3.6/dist-packages (from requests->transformers) (2.8)\n",
      "Requirement already satisfied: chardet<3.1.0,>=3.0.2 in /usr/local/lib/python3.6/dist-packages (from requests->transformers) (3.0.4)\n",
      "Requirement already satisfied: certifi>=2017.4.17 in /usr/local/lib/python3.6/dist-packages (from requests->transformers) (2019.11.28)\n",
      "Requirement already satisfied: urllib3<1.25,>=1.21.1 in /usr/local/lib/python3.6/dist-packages (from requests->transformers) (1.24.3)\n",
      "Requirement already satisfied: docutils<0.16,>=0.10 in /usr/local/lib/python3.6/dist-packages (from botocore<1.15.0,>=1.14.15->boto3->transformers) (0.15.2)\n",
      "Requirement already satisfied: python-dateutil<3.0.0,>=2.1 in /usr/local/lib/python3.6/dist-packages (from botocore<1.15.0,>=1.14.15->boto3->transformers) (2.6.1)\n"
     ]
    }
   ],
   "source": [
    "!pip install transformers"
   ]
  },
  {
   "cell_type": "markdown",
   "metadata": {
    "colab_type": "text",
    "id": "guw6ZNtaswKc"
   },
   "source": [
    "# 2. Ensure Ontonotes data has been loaded"
   ]
  },
  {
   "cell_type": "markdown",
   "metadata": {
    "colab_type": "text",
    "id": "oQUy9Tat2EF_"
   },
   "source": [
    "## 2.2. Parse"
   ]
  },
  {
   "cell_type": "markdown",
   "metadata": {
    "colab_type": "text",
    "id": "MYWzeGSY2xh3"
   },
   "source": [
    "We'll use pandas to parse the \"in-domain\" training set and look at a few of its properties and data points.\n",
    "\n",
    "If training a data augmented model uncomment `df_flipped`."
   ]
  },
  {
   "cell_type": "code",
   "execution_count": 0,
   "metadata": {
    "colab": {
     "base_uri": "https://localhost:8080/",
     "height": 383
    },
    "colab_type": "code",
    "collapsed": false,
    "id": "8uXrJJSZoYyd",
    "outputId": "9ecda735-419a-4e75-dc3b-08cd137ea67f"
   },
   "outputs": [
    {
     "name": "stdout",
     "output_type": "stream",
     "text": [
      "Number of training sentences: 42,634\n",
      "\n"
     ]
    },
    {
     "data": {
      "text/html": [
       "<div>\n",
       "<style scoped>\n",
       "    .dataframe tbody tr th:only-of-type {\n",
       "        vertical-align: middle;\n",
       "    }\n",
       "\n",
       "    .dataframe tbody tr th {\n",
       "        vertical-align: top;\n",
       "    }\n",
       "\n",
       "    .dataframe thead th {\n",
       "        text-align: right;\n",
       "    }\n",
       "</style>\n",
       "<table border=\"1\" class=\"dataframe\">\n",
       "  <thead>\n",
       "    <tr style=\"text-align: right;\">\n",
       "      <th></th>\n",
       "      <th>text</th>\n",
       "      <th>pronouns</th>\n",
       "      <th>gender</th>\n",
       "    </tr>\n",
       "  </thead>\n",
       "  <tbody>\n",
       "    <tr>\n",
       "      <th>6874</th>\n",
       "      <td>[CLS] the confirmation hearings do count /. [S...</td>\n",
       "      <td>he</td>\n",
       "      <td>1</td>\n",
       "    </tr>\n",
       "    <tr>\n",
       "      <th>11977</th>\n",
       "      <td>[CLS] it 's not [SEP] [MASK] has [SEP]</td>\n",
       "      <td>she</td>\n",
       "      <td>0</td>\n",
       "    </tr>\n",
       "    <tr>\n",
       "      <th>5506</th>\n",
       "      <td>[CLS] a bible in hand [SEP] taiwan 's united d...</td>\n",
       "      <td>he</td>\n",
       "      <td>1</td>\n",
       "    </tr>\n",
       "    <tr>\n",
       "      <th>16586</th>\n",
       "      <td>[CLS] on that last day many will call me lord ...</td>\n",
       "      <td>his</td>\n",
       "      <td>1</td>\n",
       "    </tr>\n",
       "    <tr>\n",
       "      <th>18188</th>\n",
       "      <td>[CLS] [MASK] would say `` E5502 the lord give ...</td>\n",
       "      <td>he</td>\n",
       "      <td>1</td>\n",
       "    </tr>\n",
       "    <tr>\n",
       "      <th>18274</th>\n",
       "      <td>[CLS] but E4812 said to E4306 `` the lord has ...</td>\n",
       "      <td>he</td>\n",
       "      <td>1</td>\n",
       "    </tr>\n",
       "    <tr>\n",
       "      <th>13225</th>\n",
       "      <td>[CLS] the stronger man will take away the weap...</td>\n",
       "      <td>his</td>\n",
       "      <td>1</td>\n",
       "    </tr>\n",
       "    <tr>\n",
       "      <th>23433</th>\n",
       "      <td>[CLS] sorting out the wreckage is expected to ...</td>\n",
       "      <td>he</td>\n",
       "      <td>1</td>\n",
       "    </tr>\n",
       "    <tr>\n",
       "      <th>21605</th>\n",
       "      <td>[CLS] prices were up across the board with mos...</td>\n",
       "      <td>he</td>\n",
       "      <td>1</td>\n",
       "    </tr>\n",
       "    <tr>\n",
       "      <th>23405</th>\n",
       "      <td>[CLS] offices of the city 's rent board were d...</td>\n",
       "      <td>he</td>\n",
       "      <td>1</td>\n",
       "    </tr>\n",
       "  </tbody>\n",
       "</table>\n",
       "</div>"
      ],
      "text/plain": [
       "                                                    text pronouns  gender\n",
       "6874   [CLS] the confirmation hearings do count /. [S...       he       1\n",
       "11977             [CLS] it 's not [SEP] [MASK] has [SEP]      she       0\n",
       "5506   [CLS] a bible in hand [SEP] taiwan 's united d...       he       1\n",
       "16586  [CLS] on that last day many will call me lord ...      his       1\n",
       "18188  [CLS] [MASK] would say `` E5502 the lord give ...       he       1\n",
       "18274  [CLS] but E4812 said to E4306 `` the lord has ...       he       1\n",
       "13225  [CLS] the stronger man will take away the weap...      his       1\n",
       "23433  [CLS] sorting out the wreckage is expected to ...       he       1\n",
       "21605  [CLS] prices were up across the board with mos...       he       1\n",
       "23405  [CLS] offices of the city 's rent board were d...       he       1"
      ]
     },
     "execution_count": 28,
     "metadata": {
      "tags": []
     },
     "output_type": "execute_result"
    }
   ],
   "source": [
    "import pandas as pd\n",
    "\n",
    "df_orig = pd.read_csv('./drive/My Drive/playground/original_data.csv')\n",
    "# df_flipped = pd.read_csv('./drive/My Drive/playground/flipped_data.csv')\n",
    "df = pd.concat([df_orig, df_flipped])\n",
    "df['gender'] = df['pronouns'].str.contains('^he$|^his$|^him$').astype(int)\n",
    "# Report the number of sentences.\n",
    "print('Number of training sentences: {:,}\\n'.format(df.shape[0]))\n",
    "df.sample(10)"
   ]
  },
  {
   "cell_type": "markdown",
   "metadata": {
    "colab_type": "text",
    "id": "DgUfIzyqBQyU"
   },
   "source": [
    "Check data augmented data has equal number of gender mentions (as should be the case)."
   ]
  },
  {
   "cell_type": "code",
   "execution_count": 0,
   "metadata": {
    "colab": {
     "base_uri": "https://localhost:8080/",
     "height": 70
    },
    "colab_type": "code",
    "collapsed": false,
    "id": "3Cs_RdnmvynZ",
    "outputId": "99f9b6dd-e050-4592-d7c4-26a85ce81efd"
   },
   "outputs": [
    {
     "data": {
      "text/plain": [
       "1    21317\n",
       "0    21317\n",
       "Name: gender, dtype: int64"
      ]
     },
     "execution_count": 29,
     "metadata": {
      "tags": []
     },
     "output_type": "execute_result"
    }
   ],
   "source": [
    "df.gender.value_counts()"
   ]
  },
  {
   "cell_type": "markdown",
   "metadata": {
    "colab_type": "text",
    "id": "4SMZ5T5Imhlx"
   },
   "source": [
    "\n",
    "\n",
    "Let's extract the sentences and labels of our training set as numpy ndarrays."
   ]
  },
  {
   "cell_type": "code",
   "execution_count": 0,
   "metadata": {
    "colab": {},
    "colab_type": "code",
    "collapsed": true,
    "id": "GuE5BqICAne2"
   },
   "outputs": [],
   "source": [
    "# Get the lists of sentences and their labels.\n",
    "sentences = df.text.values\n",
    "labels = df.pronouns.values"
   ]
  },
  {
   "cell_type": "markdown",
   "metadata": {
    "colab_type": "text",
    "id": "ex5O1eV-Pfct"
   },
   "source": [
    "# 3. Tokenization & Input Formatting\n",
    "\n",
    "In this section, we'll transform our dataset into the format that BERT can be trained on."
   ]
  },
  {
   "cell_type": "markdown",
   "metadata": {
    "colab_type": "text",
    "id": "-8kEDRvShcU5"
   },
   "source": [
    "## 3.1. BERT Tokenizer"
   ]
  },
  {
   "cell_type": "markdown",
   "metadata": {
    "colab_type": "text",
    "id": "bWOPOyWghJp2"
   },
   "source": [
    "\n",
    "To feed our text to BERT, it must be split into tokens, and then these tokens must be mapped to their index in the tokenizer vocabulary.\n",
    "\n",
    "The tokenization must be performed by the tokenizer included with BERT--the below cell will download this for us. We'll be using the \"uncased\" version here.\n"
   ]
  },
  {
   "cell_type": "code",
   "execution_count": 0,
   "metadata": {
    "colab": {
     "base_uri": "https://localhost:8080/",
     "height": 34
    },
    "colab_type": "code",
    "collapsed": false,
    "id": "Z474sSC6oe7A",
    "outputId": "1e918423-59fc-42d6-97b6-0ab829e46567"
   },
   "outputs": [
    {
     "name": "stdout",
     "output_type": "stream",
     "text": [
      "Loading BERT tokenizer...\n"
     ]
    }
   ],
   "source": [
    "from transformers import BertTokenizer\n",
    "\n",
    "# Load the BERT tokenizer.\n",
    "print('Loading BERT tokenizer...')\n",
    "tokenizer = BertTokenizer.from_pretrained('bert-base-uncased', do_lower_case=True)"
   ]
  },
  {
   "cell_type": "markdown",
   "metadata": {
    "colab_type": "text",
    "id": "dFzmtleW6KmJ"
   },
   "source": [
    "Let's apply the tokenizer to one sentence just to see the output.\n"
   ]
  },
  {
   "cell_type": "code",
   "execution_count": 0,
   "metadata": {
    "colab": {
     "base_uri": "https://localhost:8080/",
     "height": 90
    },
    "colab_type": "code",
    "collapsed": false,
    "id": "dLIbudgfh6F0",
    "outputId": "9745afac-4114-4128-c082-93ccb877ab87"
   },
   "outputs": [
    {
     "name": "stdout",
     "output_type": "stream",
     "text": [
      " Original:  [CLS] the confirmation hearings do count /. [SEP] and it 's not over for me /. [SEP] i want to see how this nominee performs /. [SEP] i want to see what [MASK] has to say /. [SEP]\n",
      "Tokenized:  ['[CLS]', 'the', 'confirmation', 'hearings', 'do', 'count', '/', '.', '[SEP]', 'and', 'it', \"'\", 's', 'not', 'over', 'for', 'me', '/', '.', '[SEP]', 'i', 'want', 'to', 'see', 'how', 'this', 'nominee', 'performs', '/', '.', '[SEP]', 'i', 'want', 'to', 'see', 'what', '[MASK]', 'has', 'to', 'say', '/', '.', '[SEP]']\n",
      "Token IDs:  [101, 1996, 13964, 19153, 2079, 4175, 1013, 1012, 102, 1998, 2009, 1005, 1055, 2025, 2058, 2005, 2033, 1013, 1012, 102, 1045, 2215, 2000, 2156, 2129, 2023, 9773, 10438, 1013, 1012, 102, 1045, 2215, 2000, 2156, 2054, 103, 2038, 2000, 2360, 1013, 1012, 102]\n"
     ]
    }
   ],
   "source": [
    "# Print the original sentence.\n",
    "print(' Original: ', sentences[0])\n",
    "\n",
    "# Print the sentence split into tokens.\n",
    "print('Tokenized: ', tokenizer.tokenize(sentences[0]))\n",
    "\n",
    "# Print the sentence mapped to token ids.\n",
    "print('Token IDs: ', tokenizer.convert_tokens_to_ids(tokenizer.tokenize(sentences[0])))"
   ]
  },
  {
   "cell_type": "markdown",
   "metadata": {
    "colab_type": "text",
    "id": "h3OxArs3AS_c"
   },
   "source": [
    "We create a mask which hides all tokens/words which do not correspond to the pronouns we seek to predict. This is used by the BERT model such that only predictions on the pronouns are considered when calculating the training loss. We mask the terms we wish to ignore with the token `-100`."
   ]
  },
  {
   "cell_type": "code",
   "execution_count": 0,
   "metadata": {
    "colab": {
     "base_uri": "https://localhost:8080/",
     "height": 34
    },
    "colab_type": "code",
    "collapsed": false,
    "id": "r9un04z2GXvD",
    "outputId": "50861859-8948-48c1-d1ca-a57fd8a71139"
   },
   "outputs": [
    {
     "data": {
      "text/plain": [
       "103"
      ]
     },
     "execution_count": 33,
     "metadata": {
      "tags": []
     },
     "output_type": "execute_result"
    }
   ],
   "source": [
    "mask_id = tokenizer.convert_tokens_to_ids('[MASK]')\n",
    "mask_id"
   ]
  },
  {
   "cell_type": "code",
   "execution_count": 0,
   "metadata": {
    "colab": {
     "base_uri": "https://localhost:8080/",
     "height": 52
    },
    "colab_type": "code",
    "collapsed": false,
    "id": "RNHngYbeMOoa",
    "outputId": "bd130ef6-bf6a-4ca2-af5c-71a883bcd282"
   },
   "outputs": [
    {
     "name": "stdout",
     "output_type": "stream",
     "text": [
      "CPU times: user 31.5 s, sys: 25.3 ms, total: 31.5 s\n",
      "Wall time: 31.6 s\n"
     ]
    }
   ],
   "source": [
    "%%time\n",
    "masked_lm_labels = []\n",
    "for sentence, label in zip(sentences, labels):\n",
    "  sentence_ids =  tokenizer.convert_tokens_to_ids(tokenizer.tokenize(sentence))\n",
    "  label_id = tokenizer.convert_tokens_to_ids(label)\n",
    "  masked_lm_labels.append([label_id if id == mask_id else -100 for id in sentence_ids])"
   ]
  },
  {
   "cell_type": "code",
   "execution_count": 0,
   "metadata": {
    "colab": {
     "base_uri": "https://localhost:8080/",
     "height": 781
    },
    "colab_type": "code",
    "collapsed": false,
    "id": "cKHQlHDDGn8c",
    "outputId": "605a0a4e-0d21-4b24-f434-5d1fa260df32"
   },
   "outputs": [
    {
     "data": {
      "text/plain": [
       "[-100,\n",
       " -100,\n",
       " -100,\n",
       " -100,\n",
       " -100,\n",
       " -100,\n",
       " -100,\n",
       " -100,\n",
       " -100,\n",
       " -100,\n",
       " -100,\n",
       " -100,\n",
       " -100,\n",
       " -100,\n",
       " -100,\n",
       " -100,\n",
       " -100,\n",
       " -100,\n",
       " -100,\n",
       " -100,\n",
       " -100,\n",
       " -100,\n",
       " -100,\n",
       " -100,\n",
       " -100,\n",
       " -100,\n",
       " -100,\n",
       " -100,\n",
       " -100,\n",
       " -100,\n",
       " -100,\n",
       " -100,\n",
       " -100,\n",
       " -100,\n",
       " -100,\n",
       " -100,\n",
       " 2002,\n",
       " -100,\n",
       " -100,\n",
       " -100,\n",
       " -100,\n",
       " -100,\n",
       " -100]"
      ]
     },
     "execution_count": 35,
     "metadata": {
      "tags": []
     },
     "output_type": "execute_result"
    }
   ],
   "source": [
    "masked_lm_labels[0]"
   ]
  },
  {
   "cell_type": "markdown",
   "metadata": {
    "colab_type": "text",
    "id": "viKGCCh8izww"
   },
   "source": [
    "## 3.2. Required Formatting"
   ]
  },
  {
   "cell_type": "markdown",
   "metadata": {
    "colab_type": "text",
    "id": "86C9objaKu8f"
   },
   "source": [
    "`[CLS]` and `[SEP]` were added in preprocessing so we don't need to add these terms to our data."
   ]
  },
  {
   "cell_type": "markdown",
   "metadata": {
    "colab_type": "text",
    "id": "u51v0kFxeteu"
   },
   "source": [
    "### Sentence Length & Attention Mask\n",
    "\n"
   ]
  },
  {
   "cell_type": "markdown",
   "metadata": {
    "colab_type": "text",
    "id": "qPNuwqZVK3T6"
   },
   "source": [
    "The sentences in our dataset obviously have varying lengths, so how does BERT handle this?\n",
    "\n",
    "BERT has two constraints:\n",
    "1. All sentences must be padded or truncated to a single, fixed length.\n",
    "2. The maximum sentence length is 512 tokens.\n",
    "\n",
    "Padding is done with a special `[PAD]` token, which is at index 0 in the BERT vocabulary. The below illustration demonstrates padding out to a \"MAX_LEN\" of 8 tokens.\n",
    "\n",
    "<img src=\"http://www.mccormickml.com/assets/BERT/padding_and_mask.png\" width=\"600\">\n",
    "\n",
    "The \"Attention Mask\" is simply an array of 1s and 0s indicating which tokens are padding and which aren't."
   ]
  },
  {
   "cell_type": "markdown",
   "metadata": {
    "colab_type": "text",
    "id": "l6w8elb-58GJ"
   },
   "source": [
    "## 3.2. Sentences to IDs"
   ]
  },
  {
   "cell_type": "markdown",
   "metadata": {
    "colab_type": "text",
    "id": "1M296yz577fV"
   },
   "source": [
    "The `tokenizer.encode` function combines multiple steps for us:\n",
    "1. Split the sentence into tokens.\n",
    "2. Map the tokens to their IDs."
   ]
  },
  {
   "cell_type": "code",
   "execution_count": 0,
   "metadata": {
    "colab": {
     "base_uri": "https://localhost:8080/",
     "height": 34
    },
    "colab_type": "code",
    "collapsed": false,
    "id": "PKMWulcMtNg4",
    "outputId": "df44a188-40d2-48de-861c-50d82240b2ad"
   },
   "outputs": [
    {
     "data": {
      "text/plain": [
       "1909444"
      ]
     },
     "execution_count": 36,
     "metadata": {
      "tags": []
     },
     "output_type": "execute_result"
    }
   ],
   "source": [
    "# Get word count\n",
    "word_count = [len(s.split()) for s in list(sentences)]\n",
    "sum(word_count)"
   ]
  },
  {
   "cell_type": "code",
   "execution_count": 0,
   "metadata": {
    "colab": {
     "base_uri": "https://localhost:8080/",
     "height": 107
    },
    "colab_type": "code",
    "collapsed": false,
    "id": "2bBdb3pt8LuQ",
    "outputId": "16d8b789-0a82-48a3-eb37-9cdd46dabdd5"
   },
   "outputs": [
    {
     "name": "stdout",
     "output_type": "stream",
     "text": [
      "Original:  [CLS] the confirmation hearings do count /. [SEP] and it 's not over for me /. [SEP] i want to see how this nominee performs /. [SEP] i want to see what [MASK] has to say /. [SEP]\n",
      "Token IDs: [101, 1996, 13964, 19153, 2079, 4175, 1013, 1012, 102, 1998, 2009, 1005, 1055, 2025, 2058, 2005, 2033, 1013, 1012, 102, 1045, 2215, 2000, 2156, 2129, 2023, 9773, 10438, 1013, 1012, 102, 1045, 2215, 2000, 2156, 2054, 103, 2038, 2000, 2360, 1013, 1012, 102]\n",
      "CPU times: user 31.4 s, sys: 49.7 ms, total: 31.4 s\n",
      "Wall time: 31.4 s\n"
     ]
    }
   ],
   "source": [
    "%%time\n",
    "# Tokenize all of the sentences and map the tokens to thier word IDs.\n",
    "input_ids = []\n",
    "\n",
    "# For every sentence...\n",
    "for sent in list(sentences):\n",
    "    # `encode` will:\n",
    "    #   (1) Tokenize the sentence.\n",
    "    #   (2) Prepend the `[CLS]` token to the start.\n",
    "    #   (3) Append the `[SEP]` token to the end.\n",
    "    #   (4) Map tokens to their IDs.\n",
    "    encoded_sent = tokenizer.encode(\n",
    "                        sent,                      # Sentence to encode.\n",
    "                        add_special_tokens = False, # Adds '[CLS]' and '[SEP]' if True\n",
    "\n",
    "                        # This function also supports truncation and conversion\n",
    "                        # to pytorch tensors, but we need to do padding, so we\n",
    "                        # can't use these features :( .\n",
    "                        #max_length = 128,          # Truncate all sentences.\n",
    "                        #return_tensors = 'pt',     # Return pytorch tensors.\n",
    "                   )\n",
    "    \n",
    "    # Add the encoded sentence to the list.\n",
    "    input_ids.append(encoded_sent)\n",
    "\n",
    "# Print sentence 0, now as a list of IDs.\n",
    "print('Original: ', sentences[0])\n",
    "print('Token IDs:', input_ids[0])"
   ]
  },
  {
   "cell_type": "markdown",
   "metadata": {
    "colab_type": "text",
    "id": "WhwCKszh6ych"
   },
   "source": [
    "## 3.3. Padding & Truncating"
   ]
  },
  {
   "cell_type": "markdown",
   "metadata": {
    "colab_type": "text",
    "id": "xytsw1oIfnX0"
   },
   "source": [
    "Pad and truncate our sequences so that they all have the same length, `MAX_LEN`."
   ]
  },
  {
   "cell_type": "markdown",
   "metadata": {
    "colab_type": "text",
    "id": "zqiWTDrn_nGB"
   },
   "source": [
    "First, what's the maximum sentence length in our dataset?"
   ]
  },
  {
   "cell_type": "code",
   "execution_count": 0,
   "metadata": {
    "colab": {
     "base_uri": "https://localhost:8080/",
     "height": 34
    },
    "colab_type": "code",
    "collapsed": false,
    "id": "JhUZO9vc_l6T",
    "outputId": "fa5995c3-2252-423c-c16b-45c355f85ffc"
   },
   "outputs": [
    {
     "name": "stdout",
     "output_type": "stream",
     "text": [
      "Max sentence length:  157\n"
     ]
    }
   ],
   "source": [
    "print('Max sentence length: ', max([len(sen) for sen in input_ids]))"
   ]
  },
  {
   "cell_type": "markdown",
   "metadata": {
    "colab_type": "text",
    "id": "hp-54FcQ_p3h"
   },
   "source": [
    "Given that, let's choose MAX_LEN = 150 and apply the padding."
   ]
  },
  {
   "cell_type": "code",
   "execution_count": 0,
   "metadata": {
    "colab": {
     "base_uri": "https://localhost:8080/",
     "height": 123
    },
    "colab_type": "code",
    "collapsed": false,
    "id": "Cp9BPRd1tMIo",
    "outputId": "a905dc8d-1fbf-4391-d939-97922acb27d6"
   },
   "outputs": [
    {
     "name": "stdout",
     "output_type": "stream",
     "text": [
      "\n",
      "Padding/truncating all sentences to 164 values...\n",
      "\n",
      "Padding token: \"[PAD]\", ID: 0\n",
      "\n",
      "Done.\n"
     ]
    }
   ],
   "source": [
    "# We'll borrow the `pad_sequences` utility function to do this.\n",
    "from keras.preprocessing.sequence import pad_sequences\n",
    "\n",
    "# Set the maximum sequence length.\n",
    "# I've chosen 150 somewhat arbitrarily. It's slightly larger than the\n",
    "# maximum training sentence length of 148...\n",
    "MAX_LEN = 164\n",
    "\n",
    "print('\\nPadding/truncating all sentences to %d values...' % MAX_LEN)\n",
    "\n",
    "print('\\nPadding token: \"{:}\", ID: {:}'.format(tokenizer.pad_token, tokenizer.pad_token_id))\n",
    "\n",
    "# Pad our input tokens with value 0.\n",
    "# \"post\" indicates that we want to pad and truncate at the end of the sequence,\n",
    "# as opposed to the beginning.\n",
    "input_ids = pad_sequences(input_ids, maxlen=MAX_LEN, dtype=\"long\", \n",
    "                          value=0, truncating=\"post\", padding=\"post\")\n",
    "masked_lm_labels = pad_sequences(masked_lm_labels, maxlen=MAX_LEN, dtype=\"long\", \n",
    "                          value=0, truncating=\"post\", padding=\"post\")\n",
    "print('\\nDone.')"
   ]
  },
  {
   "cell_type": "markdown",
   "metadata": {
    "colab_type": "text",
    "id": "kDs-MYtYH8sL"
   },
   "source": [
    "## 3.4. Attention Masks"
   ]
  },
  {
   "cell_type": "markdown",
   "metadata": {
    "colab_type": "text",
    "id": "KhGulL1pExCT"
   },
   "source": [
    "The attention mask simply makes it explicit which tokens are actual words versus which are padding. \n",
    "\n",
    "The BERT vocabulary does not use the ID 0, so if a token ID is 0, then it's padding, and otherwise it's a real token."
   ]
  },
  {
   "cell_type": "code",
   "execution_count": 0,
   "metadata": {
    "colab": {},
    "colab_type": "code",
    "collapsed": true,
    "id": "cDoC24LeEv3N"
   },
   "outputs": [],
   "source": [
    "# Create attention masks\n",
    "attention_masks = []\n",
    "\n",
    "# For each sentence...\n",
    "for sent in input_ids:\n",
    "    \n",
    "    # Create the attention mask.\n",
    "    #   - If a token ID is 0, then it's padding, set the mask to 0.\n",
    "    #   - If a token ID is > 0, then it's a real token, set the mask to 1.\n",
    "    att_mask = [int(token_id > 0) for token_id in sent]\n",
    "    \n",
    "    # Store the attention mask for this sentence.\n",
    "    attention_masks.append(att_mask)"
   ]
  },
  {
   "cell_type": "markdown",
   "metadata": {
    "colab_type": "text",
    "id": "aRp4O7D295d_"
   },
   "source": [
    "## 3.5. Training & Validation Split\n"
   ]
  },
  {
   "cell_type": "markdown",
   "metadata": {
    "colab_type": "text",
    "id": "qu0ao7p8rb06"
   },
   "source": [
    "Divide up our training set to use 80% for training and 20% for validation."
   ]
  },
  {
   "cell_type": "code",
   "execution_count": 0,
   "metadata": {
    "colab": {},
    "colab_type": "code",
    "collapsed": true,
    "id": "aFbE-UHvsb7-"
   },
   "outputs": [],
   "source": [
    "# Use train_test_split to split our data into train and validation sets for\n",
    "# training\n",
    "import numpy as np\n",
    "from sklearn.model_selection import train_test_split\n",
    "\n",
    "# Use 80% for training and 20% for validation.\n",
    "train_inputs, validation_inputs, train_lm_labels, validation_lm_labels = train_test_split(input_ids, masked_lm_labels,\n",
    "                                                            random_state=2018, test_size=0.2)\n",
    "# Do the same for the masks.\n",
    "train_masks, validation_masks, _, _ = train_test_split(attention_masks, masked_lm_labels,\n",
    "                                             random_state=2018, test_size=0.2)"
   ]
  },
  {
   "cell_type": "markdown",
   "metadata": {
    "colab_type": "text",
    "id": "7LzSbTqW9_BR"
   },
   "source": [
    "## 3.6. Converting to PyTorch Data Types"
   ]
  },
  {
   "cell_type": "markdown",
   "metadata": {
    "colab_type": "text",
    "id": "6p1uXczp-Je4"
   },
   "source": [
    "Our model expects PyTorch tensors rather than numpy.ndarrays, so convert all of our dataset variables."
   ]
  },
  {
   "cell_type": "code",
   "execution_count": 0,
   "metadata": {
    "colab": {},
    "colab_type": "code",
    "collapsed": true,
    "id": "jw5K2A5Ko1RF"
   },
   "outputs": [],
   "source": [
    "# Convert all inputs and labels into torch tensors, the required datatype \n",
    "# for our model.\n",
    "train_inputs = torch.tensor(train_inputs)\n",
    "validation_inputs = torch.tensor(validation_inputs)\n",
    "\n",
    "train_lm_labels = torch.tensor(train_lm_labels)\n",
    "validation_lm_labels = torch.tensor(validation_lm_labels)\n",
    "\n",
    "train_masks = torch.tensor(train_masks)\n",
    "validation_masks = torch.tensor(validation_masks)"
   ]
  },
  {
   "cell_type": "markdown",
   "metadata": {
    "colab_type": "text",
    "id": "dD9i6Z2pG-sN"
   },
   "source": [
    "We'll also create an iterator for our dataset using the torch DataLoader class. This helps save on memory during training because, unlike a for loop, with an iterator the entire dataset does not need to be loaded into memory."
   ]
  },
  {
   "cell_type": "code",
   "execution_count": 0,
   "metadata": {
    "colab": {},
    "colab_type": "code",
    "collapsed": true,
    "id": "GEgLpFVlo1Z-"
   },
   "outputs": [],
   "source": [
    "from torch.utils.data import TensorDataset, DataLoader, RandomSampler, SequentialSampler\n",
    "\n",
    "# The DataLoader needs to know our batch size for training, so we specify it \n",
    "# here.\n",
    "# For fine-tuning BERT on a specific task, the authors recommend a batch size of\n",
    "# 16 or 32.\n",
    "\n",
    "batch_size = 16\n",
    "\n",
    "# Create the DataLoader for our training set.\n",
    "train_data = TensorDataset(train_inputs, train_masks, train_lm_labels)\n",
    "train_sampler = RandomSampler(train_data)\n",
    "train_dataloader = DataLoader(train_data, sampler=train_sampler, batch_size=batch_size)\n",
    "\n",
    "# Create the DataLoader for our validation set.\n",
    "validation_data = TensorDataset(validation_inputs, validation_masks, validation_lm_labels)\n",
    "validation_sampler = SequentialSampler(validation_data)\n",
    "validation_dataloader = DataLoader(validation_data, sampler=validation_sampler, batch_size=batch_size)"
   ]
  },
  {
   "cell_type": "markdown",
   "metadata": {
    "colab_type": "text",
    "id": "8bwa6Rts-02-"
   },
   "source": [
    "# 4. Train Our Classification Model"
   ]
  },
  {
   "cell_type": "markdown",
   "metadata": {
    "colab_type": "text",
    "id": "D6TKgyUzPIQc"
   },
   "source": [
    "## 4.1. BertForMaskedLM"
   ]
  },
  {
   "cell_type": "markdown",
   "metadata": {
    "colab_type": "text",
    "id": "WnQW9E-bBCRt"
   },
   "source": [
    "Load model and send to GPU."
   ]
  },
  {
   "cell_type": "code",
   "execution_count": 0,
   "metadata": {
    "colab": {
     "base_uri": "https://localhost:8080/",
     "height": 1000
    },
    "colab_type": "code",
    "collapsed": false,
    "id": "rxTyn3McTh3K",
    "outputId": "4e9dc0b9-c4f1-46a1-d3f9-a79653f91c5f"
   },
   "outputs": [
    {
     "data": {
      "text/plain": [
       "BertForMaskedLM(\n",
       "  (bert): BertModel(\n",
       "    (embeddings): BertEmbeddings(\n",
       "      (word_embeddings): Embedding(30522, 768, padding_idx=0)\n",
       "      (position_embeddings): Embedding(512, 768)\n",
       "      (token_type_embeddings): Embedding(2, 768)\n",
       "      (LayerNorm): LayerNorm((768,), eps=1e-12, elementwise_affine=True)\n",
       "      (dropout): Dropout(p=0.1, inplace=False)\n",
       "    )\n",
       "    (encoder): BertEncoder(\n",
       "      (layer): ModuleList(\n",
       "        (0): BertLayer(\n",
       "          (attention): BertAttention(\n",
       "            (self): BertSelfAttention(\n",
       "              (query): Linear(in_features=768, out_features=768, bias=True)\n",
       "              (key): Linear(in_features=768, out_features=768, bias=True)\n",
       "              (value): Linear(in_features=768, out_features=768, bias=True)\n",
       "              (dropout): Dropout(p=0.1, inplace=False)\n",
       "            )\n",
       "            (output): BertSelfOutput(\n",
       "              (dense): Linear(in_features=768, out_features=768, bias=True)\n",
       "              (LayerNorm): LayerNorm((768,), eps=1e-12, elementwise_affine=True)\n",
       "              (dropout): Dropout(p=0.1, inplace=False)\n",
       "            )\n",
       "          )\n",
       "          (intermediate): BertIntermediate(\n",
       "            (dense): Linear(in_features=768, out_features=3072, bias=True)\n",
       "          )\n",
       "          (output): BertOutput(\n",
       "            (dense): Linear(in_features=3072, out_features=768, bias=True)\n",
       "            (LayerNorm): LayerNorm((768,), eps=1e-12, elementwise_affine=True)\n",
       "            (dropout): Dropout(p=0.1, inplace=False)\n",
       "          )\n",
       "        )\n",
       "        (1): BertLayer(\n",
       "          (attention): BertAttention(\n",
       "            (self): BertSelfAttention(\n",
       "              (query): Linear(in_features=768, out_features=768, bias=True)\n",
       "              (key): Linear(in_features=768, out_features=768, bias=True)\n",
       "              (value): Linear(in_features=768, out_features=768, bias=True)\n",
       "              (dropout): Dropout(p=0.1, inplace=False)\n",
       "            )\n",
       "            (output): BertSelfOutput(\n",
       "              (dense): Linear(in_features=768, out_features=768, bias=True)\n",
       "              (LayerNorm): LayerNorm((768,), eps=1e-12, elementwise_affine=True)\n",
       "              (dropout): Dropout(p=0.1, inplace=False)\n",
       "            )\n",
       "          )\n",
       "          (intermediate): BertIntermediate(\n",
       "            (dense): Linear(in_features=768, out_features=3072, bias=True)\n",
       "          )\n",
       "          (output): BertOutput(\n",
       "            (dense): Linear(in_features=3072, out_features=768, bias=True)\n",
       "            (LayerNorm): LayerNorm((768,), eps=1e-12, elementwise_affine=True)\n",
       "            (dropout): Dropout(p=0.1, inplace=False)\n",
       "          )\n",
       "        )\n",
       "        (2): BertLayer(\n",
       "          (attention): BertAttention(\n",
       "            (self): BertSelfAttention(\n",
       "              (query): Linear(in_features=768, out_features=768, bias=True)\n",
       "              (key): Linear(in_features=768, out_features=768, bias=True)\n",
       "              (value): Linear(in_features=768, out_features=768, bias=True)\n",
       "              (dropout): Dropout(p=0.1, inplace=False)\n",
       "            )\n",
       "            (output): BertSelfOutput(\n",
       "              (dense): Linear(in_features=768, out_features=768, bias=True)\n",
       "              (LayerNorm): LayerNorm((768,), eps=1e-12, elementwise_affine=True)\n",
       "              (dropout): Dropout(p=0.1, inplace=False)\n",
       "            )\n",
       "          )\n",
       "          (intermediate): BertIntermediate(\n",
       "            (dense): Linear(in_features=768, out_features=3072, bias=True)\n",
       "          )\n",
       "          (output): BertOutput(\n",
       "            (dense): Linear(in_features=3072, out_features=768, bias=True)\n",
       "            (LayerNorm): LayerNorm((768,), eps=1e-12, elementwise_affine=True)\n",
       "            (dropout): Dropout(p=0.1, inplace=False)\n",
       "          )\n",
       "        )\n",
       "        (3): BertLayer(\n",
       "          (attention): BertAttention(\n",
       "            (self): BertSelfAttention(\n",
       "              (query): Linear(in_features=768, out_features=768, bias=True)\n",
       "              (key): Linear(in_features=768, out_features=768, bias=True)\n",
       "              (value): Linear(in_features=768, out_features=768, bias=True)\n",
       "              (dropout): Dropout(p=0.1, inplace=False)\n",
       "            )\n",
       "            (output): BertSelfOutput(\n",
       "              (dense): Linear(in_features=768, out_features=768, bias=True)\n",
       "              (LayerNorm): LayerNorm((768,), eps=1e-12, elementwise_affine=True)\n",
       "              (dropout): Dropout(p=0.1, inplace=False)\n",
       "            )\n",
       "          )\n",
       "          (intermediate): BertIntermediate(\n",
       "            (dense): Linear(in_features=768, out_features=3072, bias=True)\n",
       "          )\n",
       "          (output): BertOutput(\n",
       "            (dense): Linear(in_features=3072, out_features=768, bias=True)\n",
       "            (LayerNorm): LayerNorm((768,), eps=1e-12, elementwise_affine=True)\n",
       "            (dropout): Dropout(p=0.1, inplace=False)\n",
       "          )\n",
       "        )\n",
       "        (4): BertLayer(\n",
       "          (attention): BertAttention(\n",
       "            (self): BertSelfAttention(\n",
       "              (query): Linear(in_features=768, out_features=768, bias=True)\n",
       "              (key): Linear(in_features=768, out_features=768, bias=True)\n",
       "              (value): Linear(in_features=768, out_features=768, bias=True)\n",
       "              (dropout): Dropout(p=0.1, inplace=False)\n",
       "            )\n",
       "            (output): BertSelfOutput(\n",
       "              (dense): Linear(in_features=768, out_features=768, bias=True)\n",
       "              (LayerNorm): LayerNorm((768,), eps=1e-12, elementwise_affine=True)\n",
       "              (dropout): Dropout(p=0.1, inplace=False)\n",
       "            )\n",
       "          )\n",
       "          (intermediate): BertIntermediate(\n",
       "            (dense): Linear(in_features=768, out_features=3072, bias=True)\n",
       "          )\n",
       "          (output): BertOutput(\n",
       "            (dense): Linear(in_features=3072, out_features=768, bias=True)\n",
       "            (LayerNorm): LayerNorm((768,), eps=1e-12, elementwise_affine=True)\n",
       "            (dropout): Dropout(p=0.1, inplace=False)\n",
       "          )\n",
       "        )\n",
       "        (5): BertLayer(\n",
       "          (attention): BertAttention(\n",
       "            (self): BertSelfAttention(\n",
       "              (query): Linear(in_features=768, out_features=768, bias=True)\n",
       "              (key): Linear(in_features=768, out_features=768, bias=True)\n",
       "              (value): Linear(in_features=768, out_features=768, bias=True)\n",
       "              (dropout): Dropout(p=0.1, inplace=False)\n",
       "            )\n",
       "            (output): BertSelfOutput(\n",
       "              (dense): Linear(in_features=768, out_features=768, bias=True)\n",
       "              (LayerNorm): LayerNorm((768,), eps=1e-12, elementwise_affine=True)\n",
       "              (dropout): Dropout(p=0.1, inplace=False)\n",
       "            )\n",
       "          )\n",
       "          (intermediate): BertIntermediate(\n",
       "            (dense): Linear(in_features=768, out_features=3072, bias=True)\n",
       "          )\n",
       "          (output): BertOutput(\n",
       "            (dense): Linear(in_features=3072, out_features=768, bias=True)\n",
       "            (LayerNorm): LayerNorm((768,), eps=1e-12, elementwise_affine=True)\n",
       "            (dropout): Dropout(p=0.1, inplace=False)\n",
       "          )\n",
       "        )\n",
       "        (6): BertLayer(\n",
       "          (attention): BertAttention(\n",
       "            (self): BertSelfAttention(\n",
       "              (query): Linear(in_features=768, out_features=768, bias=True)\n",
       "              (key): Linear(in_features=768, out_features=768, bias=True)\n",
       "              (value): Linear(in_features=768, out_features=768, bias=True)\n",
       "              (dropout): Dropout(p=0.1, inplace=False)\n",
       "            )\n",
       "            (output): BertSelfOutput(\n",
       "              (dense): Linear(in_features=768, out_features=768, bias=True)\n",
       "              (LayerNorm): LayerNorm((768,), eps=1e-12, elementwise_affine=True)\n",
       "              (dropout): Dropout(p=0.1, inplace=False)\n",
       "            )\n",
       "          )\n",
       "          (intermediate): BertIntermediate(\n",
       "            (dense): Linear(in_features=768, out_features=3072, bias=True)\n",
       "          )\n",
       "          (output): BertOutput(\n",
       "            (dense): Linear(in_features=3072, out_features=768, bias=True)\n",
       "            (LayerNorm): LayerNorm((768,), eps=1e-12, elementwise_affine=True)\n",
       "            (dropout): Dropout(p=0.1, inplace=False)\n",
       "          )\n",
       "        )\n",
       "        (7): BertLayer(\n",
       "          (attention): BertAttention(\n",
       "            (self): BertSelfAttention(\n",
       "              (query): Linear(in_features=768, out_features=768, bias=True)\n",
       "              (key): Linear(in_features=768, out_features=768, bias=True)\n",
       "              (value): Linear(in_features=768, out_features=768, bias=True)\n",
       "              (dropout): Dropout(p=0.1, inplace=False)\n",
       "            )\n",
       "            (output): BertSelfOutput(\n",
       "              (dense): Linear(in_features=768, out_features=768, bias=True)\n",
       "              (LayerNorm): LayerNorm((768,), eps=1e-12, elementwise_affine=True)\n",
       "              (dropout): Dropout(p=0.1, inplace=False)\n",
       "            )\n",
       "          )\n",
       "          (intermediate): BertIntermediate(\n",
       "            (dense): Linear(in_features=768, out_features=3072, bias=True)\n",
       "          )\n",
       "          (output): BertOutput(\n",
       "            (dense): Linear(in_features=3072, out_features=768, bias=True)\n",
       "            (LayerNorm): LayerNorm((768,), eps=1e-12, elementwise_affine=True)\n",
       "            (dropout): Dropout(p=0.1, inplace=False)\n",
       "          )\n",
       "        )\n",
       "        (8): BertLayer(\n",
       "          (attention): BertAttention(\n",
       "            (self): BertSelfAttention(\n",
       "              (query): Linear(in_features=768, out_features=768, bias=True)\n",
       "              (key): Linear(in_features=768, out_features=768, bias=True)\n",
       "              (value): Linear(in_features=768, out_features=768, bias=True)\n",
       "              (dropout): Dropout(p=0.1, inplace=False)\n",
       "            )\n",
       "            (output): BertSelfOutput(\n",
       "              (dense): Linear(in_features=768, out_features=768, bias=True)\n",
       "              (LayerNorm): LayerNorm((768,), eps=1e-12, elementwise_affine=True)\n",
       "              (dropout): Dropout(p=0.1, inplace=False)\n",
       "            )\n",
       "          )\n",
       "          (intermediate): BertIntermediate(\n",
       "            (dense): Linear(in_features=768, out_features=3072, bias=True)\n",
       "          )\n",
       "          (output): BertOutput(\n",
       "            (dense): Linear(in_features=3072, out_features=768, bias=True)\n",
       "            (LayerNorm): LayerNorm((768,), eps=1e-12, elementwise_affine=True)\n",
       "            (dropout): Dropout(p=0.1, inplace=False)\n",
       "          )\n",
       "        )\n",
       "        (9): BertLayer(\n",
       "          (attention): BertAttention(\n",
       "            (self): BertSelfAttention(\n",
       "              (query): Linear(in_features=768, out_features=768, bias=True)\n",
       "              (key): Linear(in_features=768, out_features=768, bias=True)\n",
       "              (value): Linear(in_features=768, out_features=768, bias=True)\n",
       "              (dropout): Dropout(p=0.1, inplace=False)\n",
       "            )\n",
       "            (output): BertSelfOutput(\n",
       "              (dense): Linear(in_features=768, out_features=768, bias=True)\n",
       "              (LayerNorm): LayerNorm((768,), eps=1e-12, elementwise_affine=True)\n",
       "              (dropout): Dropout(p=0.1, inplace=False)\n",
       "            )\n",
       "          )\n",
       "          (intermediate): BertIntermediate(\n",
       "            (dense): Linear(in_features=768, out_features=3072, bias=True)\n",
       "          )\n",
       "          (output): BertOutput(\n",
       "            (dense): Linear(in_features=3072, out_features=768, bias=True)\n",
       "            (LayerNorm): LayerNorm((768,), eps=1e-12, elementwise_affine=True)\n",
       "            (dropout): Dropout(p=0.1, inplace=False)\n",
       "          )\n",
       "        )\n",
       "        (10): BertLayer(\n",
       "          (attention): BertAttention(\n",
       "            (self): BertSelfAttention(\n",
       "              (query): Linear(in_features=768, out_features=768, bias=True)\n",
       "              (key): Linear(in_features=768, out_features=768, bias=True)\n",
       "              (value): Linear(in_features=768, out_features=768, bias=True)\n",
       "              (dropout): Dropout(p=0.1, inplace=False)\n",
       "            )\n",
       "            (output): BertSelfOutput(\n",
       "              (dense): Linear(in_features=768, out_features=768, bias=True)\n",
       "              (LayerNorm): LayerNorm((768,), eps=1e-12, elementwise_affine=True)\n",
       "              (dropout): Dropout(p=0.1, inplace=False)\n",
       "            )\n",
       "          )\n",
       "          (intermediate): BertIntermediate(\n",
       "            (dense): Linear(in_features=768, out_features=3072, bias=True)\n",
       "          )\n",
       "          (output): BertOutput(\n",
       "            (dense): Linear(in_features=3072, out_features=768, bias=True)\n",
       "            (LayerNorm): LayerNorm((768,), eps=1e-12, elementwise_affine=True)\n",
       "            (dropout): Dropout(p=0.1, inplace=False)\n",
       "          )\n",
       "        )\n",
       "        (11): BertLayer(\n",
       "          (attention): BertAttention(\n",
       "            (self): BertSelfAttention(\n",
       "              (query): Linear(in_features=768, out_features=768, bias=True)\n",
       "              (key): Linear(in_features=768, out_features=768, bias=True)\n",
       "              (value): Linear(in_features=768, out_features=768, bias=True)\n",
       "              (dropout): Dropout(p=0.1, inplace=False)\n",
       "            )\n",
       "            (output): BertSelfOutput(\n",
       "              (dense): Linear(in_features=768, out_features=768, bias=True)\n",
       "              (LayerNorm): LayerNorm((768,), eps=1e-12, elementwise_affine=True)\n",
       "              (dropout): Dropout(p=0.1, inplace=False)\n",
       "            )\n",
       "          )\n",
       "          (intermediate): BertIntermediate(\n",
       "            (dense): Linear(in_features=768, out_features=3072, bias=True)\n",
       "          )\n",
       "          (output): BertOutput(\n",
       "            (dense): Linear(in_features=3072, out_features=768, bias=True)\n",
       "            (LayerNorm): LayerNorm((768,), eps=1e-12, elementwise_affine=True)\n",
       "            (dropout): Dropout(p=0.1, inplace=False)\n",
       "          )\n",
       "        )\n",
       "      )\n",
       "    )\n",
       "    (pooler): BertPooler(\n",
       "      (dense): Linear(in_features=768, out_features=768, bias=True)\n",
       "      (activation): Tanh()\n",
       "    )\n",
       "  )\n",
       "  (cls): BertOnlyMLMHead(\n",
       "    (predictions): BertLMPredictionHead(\n",
       "      (transform): BertPredictionHeadTransform(\n",
       "        (dense): Linear(in_features=768, out_features=768, bias=True)\n",
       "        (LayerNorm): LayerNorm((768,), eps=1e-12, elementwise_affine=True)\n",
       "      )\n",
       "      (decoder): Linear(in_features=768, out_features=30522, bias=True)\n",
       "    )\n",
       "  )\n",
       ")"
      ]
     },
     "execution_count": 45,
     "metadata": {
      "tags": []
     },
     "output_type": "execute_result"
    }
   ],
   "source": [
    "from transformers import BertForMaskedLM, AdamW, BertConfig\n",
    "\n",
    "# Load BertForSequenceClassification, the pretrained BERT model with a single \n",
    "# linear classification layer on top. \n",
    "model = BertForMaskedLM.from_pretrained(\n",
    "    '/content/drive/My Drive/playground/model_save/debias/full/lr_2e-05_eps_1e-08/epoch_1/',\n",
    "    # \"bert-base-uncased\", # Use the 12-layer BERT model, with an uncased vocab.\n",
    "    output_attentions = False, # Whether the model returns attentions weights.\n",
    "    output_hidden_states = False, # Whether the model returns all hidden-states.\n",
    ")\n",
    "\n",
    "# Tell pytorch to run this model on the GPU.\n",
    "model.cuda()"
   ]
  },
  {
   "cell_type": "markdown",
   "metadata": {
    "colab_type": "text",
    "id": "qRWT-D4U_Pvx"
   },
   "source": [
    "## 4.2. Optimizer & Learning Rate Scheduler"
   ]
  },
  {
   "cell_type": "markdown",
   "metadata": {
    "colab_type": "text",
    "id": "8o-VEBobKwHk"
   },
   "source": [
    "Now that we have our model loaded we need to grab the training hyperparameters from within the stored model.\n",
    "\n",
    "For the purposes of fine-tuning, the authors recommend choosing from the following values:\n",
    "- Batch size: 16, 32  (We chose 16 when creating our DataLoaders).\n",
    "- Learning rate (Adam): 5e-5, 3e-5, 2e-5  (We cross validated over these parameters).\n",
    "- Number of epochs: 2, 3, 4  (We'll used 8, and selected the epoch number which best performs on the validation dataset).\n",
    "\n",
    "The epsilon parameter `eps = 1e-8` is \"a very small number to prevent any division by zero in the implementation\" (from [here](https://machinelearningmastery.com/adam-optimization-algorithm-for-deep-learning/)).\n",
    "\n",
    "You can find the creation of the AdamW optimizer in `run_glue.py` [here](https://github.com/huggingface/transformers/blob/5bfcd0485ece086ebcbed2d008813037968a9e58/examples/run_glue.py#L109)."
   ]
  },
  {
   "cell_type": "code",
   "execution_count": 0,
   "metadata": {
    "colab": {},
    "colab_type": "code",
    "collapsed": true,
    "id": "GLs72DuMODJO"
   },
   "outputs": [],
   "source": [
    "# Note: AdamW is a class from the huggingface library (as opposed to pytorch) \n",
    "# I believe the 'W' stands for 'Weight Decay fix\"\n",
    "lr = 2e-5\n",
    "eps = 1e-8\n",
    "optimizer = AdamW(model.parameters(),\n",
    "                  lr = lr, # args.learning_rate - default is 5e-5, our notebook had 2e-5\n",
    "                  eps = eps # args.adam_epsilon  - default is 1e-8.\n",
    "                )\n"
   ]
  },
  {
   "cell_type": "code",
   "execution_count": 0,
   "metadata": {
    "colab": {},
    "colab_type": "code",
    "collapsed": true,
    "id": "-p0upAhhRiIx"
   },
   "outputs": [],
   "source": [
    "from transformers import get_linear_schedule_with_warmup\n",
    "\n",
    "# Number of training epochs (authors recommend between 2 and 4)\n",
    "epochs = 8\n",
    "\n",
    "# Total number of training steps is number of batches * number of epochs.\n",
    "total_steps = len(train_dataloader) * epochs\n",
    "\n",
    "# Create the learning rate scheduler.\n",
    "scheduler = get_linear_schedule_with_warmup(optimizer, \n",
    "                                            num_warmup_steps = 0, # Default value in run_glue.py\n",
    "                                            num_training_steps = total_steps)"
   ]
  },
  {
   "cell_type": "markdown",
   "metadata": {
    "colab_type": "text",
    "id": "RqfmWwUR_Sox"
   },
   "source": [
    "## 4.3. Training Loop"
   ]
  },
  {
   "cell_type": "markdown",
   "metadata": {
    "colab_type": "text",
    "id": "_QXZhFb4LnV5"
   },
   "source": [
    "Below is our training loop. There's a lot going on, but fundamentally for each pass in our loop we have a trianing phase and a validation phase. At each pass we need to:\n",
    "\n",
    "Training loop:\n",
    "- Unpack our data inputs and labels\n",
    "- Load data onto the GPU for acceleration\n",
    "- Clear out the gradients calculated in the previous pass. \n",
    "    - In pytorch the gradients accumulate by default (useful for things like RNNs) unless you explicitly clear them out.\n",
    "- Forward pass (feed input data through the network)\n",
    "- Backward pass (backpropagation)\n",
    "- Tell the network to update parameters with optimizer.step()\n",
    "- Track variables for monitoring progress\n",
    "\n",
    "Evalution loop:\n",
    "- Unpack our data inputs and labels\n",
    "- Load data onto the GPU for acceleration\n",
    "- Forward pass (feed input data through the network)\n",
    "- Compute loss on our validation data and track variables for monitoring progress\n",
    "\n",
    "So please read carefully through the comments to get an understanding of what's happening. If you're unfamiliar with pytorch a quick look at some of their [beginner tutorials](https://pytorch.org/tutorials/beginner/blitz/cifar10_tutorial.html#sphx-glr-beginner-blitz-cifar10-tutorial-py) will help show you that training loops really involve only a few simple steps; the rest is usually just decoration and logging.  "
   ]
  },
  {
   "cell_type": "markdown",
   "metadata": {
    "colab_type": "text",
    "id": "pE5B99H5H2-W"
   },
   "source": [
    "Define a helper function for calculating accuracy."
   ]
  },
  {
   "cell_type": "code",
   "execution_count": 0,
   "metadata": {
    "colab": {},
    "colab_type": "code",
    "collapsed": true,
    "id": "9cQNvaZ9bnyy"
   },
   "outputs": [],
   "source": [
    "import numpy as np\n",
    "\n",
    "# Function to calculate the accuracy of our predictions vs labels\n",
    "def flat_accuracy(preds, labels):\n",
    "    pred_flat = np.argmax(preds, axis=2).flatten()\n",
    "    labels_flat = labels.flatten()\n",
    "    labels_flat_filtered = (labels_flat != 0) * (labels_flat != -100) * labels_flat\n",
    "\n",
    "    return np.sum((pred_flat == labels_flat_filtered) * (labels_flat_filtered != 0)) / sum(labels_flat_filtered != 0)"
   ]
  },
  {
   "cell_type": "markdown",
   "metadata": {
    "colab_type": "text",
    "id": "KNhRtWPXH9C3"
   },
   "source": [
    "Helper function for formatting elapsed times.\n"
   ]
  },
  {
   "cell_type": "code",
   "execution_count": 0,
   "metadata": {
    "colab": {},
    "colab_type": "code",
    "collapsed": true,
    "id": "gpt6tR83keZD"
   },
   "outputs": [],
   "source": [
    "import time\n",
    "import datetime\n",
    "\n",
    "def format_time(elapsed):\n",
    "    '''\n",
    "    Takes a time in seconds and returns a string hh:mm:ss\n",
    "    '''\n",
    "    # Round to the nearest second.\n",
    "    elapsed_rounded = int(round((elapsed)))\n",
    "    \n",
    "    # Format as hh:mm:ss\n",
    "    return str(datetime.timedelta(seconds=elapsed_rounded))\n"
   ]
  },
  {
   "cell_type": "markdown",
   "metadata": {
    "colab_type": "text",
    "id": "cfNIhN19te3N"
   },
   "source": [
    "We're ready to kick off the training!"
   ]
  },
  {
   "cell_type": "markdown",
   "metadata": {
    "colab_type": "text",
    "id": "PX5abOO6sqgN"
   },
   "source": [
    "Now start training!"
   ]
  },
  {
   "cell_type": "code",
   "execution_count": 0,
   "metadata": {
    "colab": {
     "base_uri": "https://localhost:8080/",
     "height": 1000
    },
    "colab_type": "code",
    "collapsed": false,
    "id": "6J-FYdx6nFE_",
    "outputId": "80efdd52-d713-43b3-a99e-e5c02de317b7"
   },
   "outputs": [
    {
     "name": "stdout",
     "output_type": "stream",
     "text": [
      "\n",
      "======== Epoch 3 / 8 ========\n",
      "Training...\n",
      "Batch    40 of 2,132.  Elapsed: 0:00:23.\n",
      "Batch    80 of 2,132.  Elapsed: 0:00:46.\n",
      "Batch   120 of 2,132.  Elapsed: 0:01:10.\n",
      "Batch   160 of 2,132.  Elapsed: 0:01:34.\n",
      "Batch   200 of 2,132.  Elapsed: 0:01:58.\n",
      "Batch   240 of 2,132.  Elapsed: 0:02:22.\n",
      "Batch   280 of 2,132.  Elapsed: 0:02:47.\n",
      "Batch   320 of 2,132.  Elapsed: 0:03:12.\n",
      "Batch   360 of 2,132.  Elapsed: 0:03:37.\n",
      "Batch   400 of 2,132.  Elapsed: 0:04:03.\n",
      "Batch   440 of 2,132.  Elapsed: 0:04:28.\n",
      "Batch   480 of 2,132.  Elapsed: 0:04:54.\n",
      "Batch   520 of 2,132.  Elapsed: 0:05:20.\n",
      "Batch   560 of 2,132.  Elapsed: 0:05:45.\n",
      "Batch   600 of 2,132.  Elapsed: 0:06:11.\n",
      "Batch   640 of 2,132.  Elapsed: 0:06:37.\n",
      "Batch   680 of 2,132.  Elapsed: 0:07:02.\n",
      "Batch   720 of 2,132.  Elapsed: 0:07:28.\n",
      "Batch   760 of 2,132.  Elapsed: 0:07:54.\n",
      "Batch   800 of 2,132.  Elapsed: 0:08:19.\n",
      "Batch   840 of 2,132.  Elapsed: 0:08:45.\n",
      "Batch   880 of 2,132.  Elapsed: 0:09:11.\n",
      "Batch   920 of 2,132.  Elapsed: 0:09:36.\n",
      "Batch   960 of 2,132.  Elapsed: 0:10:02.\n",
      "Batch 1,000 of 2,132.  Elapsed: 0:10:27.\n",
      "Batch 1,040 of 2,132.  Elapsed: 0:10:53.\n",
      "Batch 1,080 of 2,132.  Elapsed: 0:11:19.\n",
      "Batch 1,120 of 2,132.  Elapsed: 0:11:44.\n",
      "Batch 1,160 of 2,132.  Elapsed: 0:12:10.\n",
      "Batch 1,200 of 2,132.  Elapsed: 0:12:35.\n",
      "Batch 1,240 of 2,132.  Elapsed: 0:13:01.\n",
      "Batch 1,280 of 2,132.  Elapsed: 0:13:27.\n",
      "Batch 1,320 of 2,132.  Elapsed: 0:13:52.\n",
      "Batch 1,360 of 2,132.  Elapsed: 0:14:18.\n",
      "Batch 1,400 of 2,132.  Elapsed: 0:14:44.\n",
      "Batch 1,440 of 2,132.  Elapsed: 0:15:09.\n",
      "Batch 1,480 of 2,132.  Elapsed: 0:15:35.\n",
      "Batch 1,520 of 2,132.  Elapsed: 0:16:00.\n",
      "Batch 1,560 of 2,132.  Elapsed: 0:16:26.\n",
      "Batch 1,600 of 2,132.  Elapsed: 0:16:51.\n",
      "Batch 1,640 of 2,132.  Elapsed: 0:17:17.\n",
      "Batch 1,680 of 2,132.  Elapsed: 0:17:43.\n",
      "Batch 1,720 of 2,132.  Elapsed: 0:18:08.\n",
      "Batch 1,760 of 2,132.  Elapsed: 0:18:34.\n",
      "Batch 1,800 of 2,132.  Elapsed: 0:18:59.\n",
      "Batch 1,840 of 2,132.  Elapsed: 0:19:25.\n",
      "Batch 1,880 of 2,132.  Elapsed: 0:19:51.\n",
      "Batch 1,920 of 2,132.  Elapsed: 0:20:16.\n",
      "Batch 1,960 of 2,132.  Elapsed: 0:20:42.\n",
      "Batch 2,000 of 2,132.  Elapsed: 0:21:07.\n",
      "Batch 2,040 of 2,132.  Elapsed: 0:21:33.\n",
      "Batch 2,080 of 2,132.  Elapsed: 0:21:59.\n",
      "Batch 2,120 of 2,132.  Elapsed: 0:22:24.\n",
      "Saving model to ./drive/My Drive/playground/model_save/debias/full/lr_2e-05_eps_1e-08/epoch_2/\n",
      "\n",
      "  Average training loss: 0.01\n",
      "  Training epcoh took: 0:22:44\n",
      "\n",
      "Running Validation...\n",
      "  Average evaluation loss: 0.01\n",
      "  Accuracy: 0.56\n",
      "  Validation took: 0:03:12\n",
      "\n",
      "======== Epoch 4 / 8 ========\n",
      "Training...\n",
      "Batch    40 of 2,132.  Elapsed: 0:00:26.\n",
      "Batch    80 of 2,132.  Elapsed: 0:00:52.\n",
      "Batch   120 of 2,132.  Elapsed: 0:01:17.\n",
      "Batch   160 of 2,132.  Elapsed: 0:01:43.\n",
      "Batch   200 of 2,132.  Elapsed: 0:02:08.\n",
      "Batch   240 of 2,132.  Elapsed: 0:02:34.\n",
      "Batch   280 of 2,132.  Elapsed: 0:02:59.\n",
      "Batch   320 of 2,132.  Elapsed: 0:03:25.\n",
      "Batch   360 of 2,132.  Elapsed: 0:03:51.\n",
      "Batch   400 of 2,132.  Elapsed: 0:04:16.\n",
      "Batch   440 of 2,132.  Elapsed: 0:04:42.\n",
      "Batch   480 of 2,132.  Elapsed: 0:05:07.\n",
      "Batch   520 of 2,132.  Elapsed: 0:05:33.\n",
      "Batch   560 of 2,132.  Elapsed: 0:05:58.\n",
      "Batch   600 of 2,132.  Elapsed: 0:06:24.\n",
      "Batch   640 of 2,132.  Elapsed: 0:06:49.\n",
      "Batch   680 of 2,132.  Elapsed: 0:07:15.\n",
      "Batch   720 of 2,132.  Elapsed: 0:07:41.\n",
      "Batch   760 of 2,132.  Elapsed: 0:08:06.\n",
      "Batch   800 of 2,132.  Elapsed: 0:08:32.\n",
      "Batch   840 of 2,132.  Elapsed: 0:08:57.\n",
      "Batch   880 of 2,132.  Elapsed: 0:09:23.\n",
      "Batch   920 of 2,132.  Elapsed: 0:09:48.\n",
      "Batch   960 of 2,132.  Elapsed: 0:10:13.\n",
      "Batch 1,000 of 2,132.  Elapsed: 0:10:39.\n",
      "Batch 1,040 of 2,132.  Elapsed: 0:11:04.\n",
      "Batch 1,080 of 2,132.  Elapsed: 0:11:30.\n",
      "Batch 1,120 of 2,132.  Elapsed: 0:11:55.\n",
      "Batch 1,160 of 2,132.  Elapsed: 0:12:20.\n",
      "Batch 1,200 of 2,132.  Elapsed: 0:12:46.\n",
      "Batch 1,240 of 2,132.  Elapsed: 0:13:11.\n",
      "Batch 1,280 of 2,132.  Elapsed: 0:13:36.\n",
      "Batch 1,320 of 2,132.  Elapsed: 0:14:02.\n",
      "Batch 1,360 of 2,132.  Elapsed: 0:14:27.\n",
      "Batch 1,400 of 2,132.  Elapsed: 0:14:52.\n",
      "Batch 1,440 of 2,132.  Elapsed: 0:15:18.\n",
      "Batch 1,480 of 2,132.  Elapsed: 0:15:43.\n",
      "Batch 1,520 of 2,132.  Elapsed: 0:16:08.\n",
      "Batch 1,560 of 2,132.  Elapsed: 0:16:34.\n",
      "Batch 1,600 of 2,132.  Elapsed: 0:16:59.\n",
      "Batch 1,640 of 2,132.  Elapsed: 0:17:24.\n",
      "Batch 1,680 of 2,132.  Elapsed: 0:17:50.\n",
      "Batch 1,720 of 2,132.  Elapsed: 0:18:15.\n",
      "Batch 1,760 of 2,132.  Elapsed: 0:18:40.\n",
      "Batch 1,800 of 2,132.  Elapsed: 0:19:06.\n",
      "Batch 1,840 of 2,132.  Elapsed: 0:19:31.\n",
      "Batch 1,880 of 2,132.  Elapsed: 0:19:56.\n",
      "Batch 1,920 of 2,132.  Elapsed: 0:20:22.\n",
      "Batch 1,960 of 2,132.  Elapsed: 0:20:47.\n",
      "Batch 2,000 of 2,132.  Elapsed: 0:21:12.\n",
      "Batch 2,040 of 2,132.  Elapsed: 0:21:38.\n",
      "Batch 2,080 of 2,132.  Elapsed: 0:22:03.\n",
      "Batch 2,120 of 2,132.  Elapsed: 0:22:28.\n",
      "Saving model to ./drive/My Drive/playground/model_save/debias/full/lr_2e-05_eps_1e-08/epoch_3/\n",
      "\n",
      "  Average training loss: 0.01\n",
      "  Training epcoh took: 0:22:48\n",
      "\n",
      "Running Validation...\n",
      "  Average evaluation loss: 0.01\n",
      "  Accuracy: 0.55\n",
      "  Validation took: 0:03:11\n",
      "\n",
      "======== Epoch 5 / 8 ========\n",
      "Training...\n",
      "Batch    40 of 2,132.  Elapsed: 0:00:26.\n",
      "Batch    80 of 2,132.  Elapsed: 0:00:52.\n",
      "Batch   120 of 2,132.  Elapsed: 0:01:17.\n",
      "Batch   160 of 2,132.  Elapsed: 0:01:43.\n",
      "Batch   200 of 2,132.  Elapsed: 0:02:08.\n",
      "Batch   240 of 2,132.  Elapsed: 0:02:34.\n",
      "Batch   280 of 2,132.  Elapsed: 0:02:59.\n",
      "Batch   320 of 2,132.  Elapsed: 0:03:25.\n",
      "Batch   360 of 2,132.  Elapsed: 0:03:50.\n",
      "Batch   400 of 2,132.  Elapsed: 0:04:16.\n",
      "Batch   440 of 2,132.  Elapsed: 0:04:41.\n",
      "Batch   480 of 2,132.  Elapsed: 0:05:07.\n",
      "Batch   520 of 2,132.  Elapsed: 0:05:33.\n",
      "Batch   560 of 2,132.  Elapsed: 0:05:58.\n",
      "Batch   600 of 2,132.  Elapsed: 0:06:24.\n",
      "Batch   640 of 2,132.  Elapsed: 0:06:50.\n",
      "Batch   680 of 2,132.  Elapsed: 0:07:15.\n",
      "Batch   720 of 2,132.  Elapsed: 0:07:41.\n",
      "Batch   760 of 2,132.  Elapsed: 0:08:06.\n",
      "Batch   800 of 2,132.  Elapsed: 0:08:32.\n",
      "Batch   840 of 2,132.  Elapsed: 0:08:57.\n",
      "Batch   880 of 2,132.  Elapsed: 0:09:23.\n",
      "Batch   920 of 2,132.  Elapsed: 0:09:49.\n",
      "Batch   960 of 2,132.  Elapsed: 0:10:14.\n",
      "Batch 1,000 of 2,132.  Elapsed: 0:10:40.\n",
      "Batch 1,040 of 2,132.  Elapsed: 0:11:05.\n",
      "Batch 1,080 of 2,132.  Elapsed: 0:11:31.\n",
      "Batch 1,120 of 2,132.  Elapsed: 0:11:56.\n",
      "Batch 1,160 of 2,132.  Elapsed: 0:12:22.\n",
      "Batch 1,200 of 2,132.  Elapsed: 0:12:47.\n",
      "Batch 1,240 of 2,132.  Elapsed: 0:13:13.\n",
      "Batch 1,280 of 2,132.  Elapsed: 0:13:38.\n",
      "Batch 1,320 of 2,132.  Elapsed: 0:14:04.\n",
      "Batch 1,360 of 2,132.  Elapsed: 0:14:30.\n",
      "Batch 1,400 of 2,132.  Elapsed: 0:14:55.\n",
      "Batch 1,440 of 2,132.  Elapsed: 0:15:21.\n",
      "Batch 1,480 of 2,132.  Elapsed: 0:15:46.\n",
      "Batch 1,520 of 2,132.  Elapsed: 0:16:12.\n",
      "Batch 1,560 of 2,132.  Elapsed: 0:16:38.\n",
      "Batch 1,600 of 2,132.  Elapsed: 0:17:03.\n",
      "Batch 1,640 of 2,132.  Elapsed: 0:17:29.\n",
      "Batch 1,680 of 2,132.  Elapsed: 0:17:54.\n",
      "Batch 1,720 of 2,132.  Elapsed: 0:18:20.\n",
      "Batch 1,760 of 2,132.  Elapsed: 0:18:45.\n",
      "Batch 1,800 of 2,132.  Elapsed: 0:19:11.\n",
      "Batch 1,840 of 2,132.  Elapsed: 0:19:36.\n",
      "Batch 1,880 of 2,132.  Elapsed: 0:20:02.\n",
      "Batch 1,920 of 2,132.  Elapsed: 0:20:27.\n",
      "Batch 1,960 of 2,132.  Elapsed: 0:20:53.\n",
      "Batch 2,000 of 2,132.  Elapsed: 0:21:18.\n",
      "Batch 2,040 of 2,132.  Elapsed: 0:21:44.\n",
      "Batch 2,080 of 2,132.  Elapsed: 0:22:10.\n",
      "Batch 2,120 of 2,132.  Elapsed: 0:22:35.\n",
      "Saving model to ./drive/My Drive/playground/model_save/debias/full/lr_2e-05_eps_1e-08/epoch_4/\n",
      "\n",
      "  Average training loss: 0.01\n",
      "  Training epcoh took: 0:22:44\n",
      "\n",
      "Running Validation...\n",
      "  Average evaluation loss: 0.01\n",
      "  Accuracy: 0.55\n",
      "  Validation took: 0:03:12\n",
      "\n",
      "======== Epoch 6 / 8 ========\n",
      "Training...\n",
      "Batch    40 of 2,132.  Elapsed: 0:00:26.\n",
      "Batch    80 of 2,132.  Elapsed: 0:00:51.\n",
      "Batch   120 of 2,132.  Elapsed: 0:01:17.\n",
      "Batch   160 of 2,132.  Elapsed: 0:01:42.\n",
      "Batch   200 of 2,132.  Elapsed: 0:02:08.\n",
      "Batch   240 of 2,132.  Elapsed: 0:02:34.\n",
      "Batch   280 of 2,132.  Elapsed: 0:02:59.\n",
      "Batch   320 of 2,132.  Elapsed: 0:03:25.\n",
      "Batch   360 of 2,132.  Elapsed: 0:03:50.\n",
      "Batch   400 of 2,132.  Elapsed: 0:04:16.\n",
      "Batch   440 of 2,132.  Elapsed: 0:04:41.\n",
      "Batch   480 of 2,132.  Elapsed: 0:05:07.\n",
      "Batch   520 of 2,132.  Elapsed: 0:05:32.\n",
      "Batch   560 of 2,132.  Elapsed: 0:05:58.\n",
      "Batch   600 of 2,132.  Elapsed: 0:06:23.\n",
      "Batch   640 of 2,132.  Elapsed: 0:06:49.\n",
      "Batch   680 of 2,132.  Elapsed: 0:07:15.\n",
      "Batch   720 of 2,132.  Elapsed: 0:07:40.\n",
      "Batch   760 of 2,132.  Elapsed: 0:08:06.\n",
      "Batch   800 of 2,132.  Elapsed: 0:08:31.\n",
      "Batch   840 of 2,132.  Elapsed: 0:08:57.\n",
      "Batch   880 of 2,132.  Elapsed: 0:09:22.\n",
      "Batch   920 of 2,132.  Elapsed: 0:09:48.\n",
      "Batch   960 of 2,132.  Elapsed: 0:10:14.\n",
      "Batch 1,000 of 2,132.  Elapsed: 0:10:39.\n",
      "Batch 1,040 of 2,132.  Elapsed: 0:11:05.\n",
      "Batch 1,080 of 2,132.  Elapsed: 0:11:30.\n",
      "Batch 1,120 of 2,132.  Elapsed: 0:11:56.\n",
      "Batch 1,160 of 2,132.  Elapsed: 0:12:21.\n",
      "Batch 1,200 of 2,132.  Elapsed: 0:12:47.\n",
      "Batch 1,240 of 2,132.  Elapsed: 0:13:13.\n",
      "Batch 1,280 of 2,132.  Elapsed: 0:13:38.\n",
      "Batch 1,320 of 2,132.  Elapsed: 0:14:04.\n",
      "Batch 1,360 of 2,132.  Elapsed: 0:14:30.\n",
      "Batch 1,400 of 2,132.  Elapsed: 0:14:55.\n",
      "Batch 1,440 of 2,132.  Elapsed: 0:15:21.\n",
      "Batch 1,480 of 2,132.  Elapsed: 0:15:46.\n",
      "Batch 1,520 of 2,132.  Elapsed: 0:16:12.\n",
      "Batch 1,560 of 2,132.  Elapsed: 0:16:37.\n",
      "Batch 1,600 of 2,132.  Elapsed: 0:17:03.\n",
      "Batch 1,640 of 2,132.  Elapsed: 0:17:29.\n",
      "Batch 1,680 of 2,132.  Elapsed: 0:17:54.\n",
      "Batch 1,720 of 2,132.  Elapsed: 0:18:20.\n",
      "Batch 1,760 of 2,132.  Elapsed: 0:18:45.\n",
      "Batch 1,800 of 2,132.  Elapsed: 0:19:11.\n",
      "Batch 1,840 of 2,132.  Elapsed: 0:19:37.\n",
      "Batch 1,880 of 2,132.  Elapsed: 0:20:02.\n",
      "Batch 1,920 of 2,132.  Elapsed: 0:20:28.\n",
      "Batch 1,960 of 2,132.  Elapsed: 0:20:53.\n",
      "Batch 2,000 of 2,132.  Elapsed: 0:21:19.\n",
      "Batch 2,040 of 2,132.  Elapsed: 0:21:44.\n",
      "Batch 2,080 of 2,132.  Elapsed: 0:22:10.\n",
      "Batch 2,120 of 2,132.  Elapsed: 0:22:36.\n",
      "Saving model to ./drive/My Drive/playground/model_save/debias/full/lr_2e-05_eps_1e-08/epoch_5/\n",
      "\n",
      "  Average training loss: 0.01\n",
      "  Training epcoh took: 0:22:45\n",
      "\n",
      "Running Validation...\n",
      "  Average evaluation loss: 0.01\n",
      "  Accuracy: 0.54\n",
      "  Validation took: 0:03:12\n",
      "\n",
      "======== Epoch 7 / 8 ========\n",
      "Training...\n",
      "Batch    40 of 2,132.  Elapsed: 0:00:26.\n",
      "Batch    80 of 2,132.  Elapsed: 0:00:51.\n",
      "Batch   120 of 2,132.  Elapsed: 0:01:17.\n",
      "Batch   160 of 2,132.  Elapsed: 0:01:42.\n",
      "Batch   200 of 2,132.  Elapsed: 0:02:08.\n",
      "Batch   240 of 2,132.  Elapsed: 0:02:33.\n",
      "Batch   280 of 2,132.  Elapsed: 0:02:59.\n",
      "Batch   320 of 2,132.  Elapsed: 0:03:25.\n",
      "Batch   360 of 2,132.  Elapsed: 0:03:50.\n",
      "Batch   400 of 2,132.  Elapsed: 0:04:16.\n",
      "Batch   440 of 2,132.  Elapsed: 0:04:41.\n",
      "Batch   480 of 2,132.  Elapsed: 0:05:07.\n",
      "Batch   520 of 2,132.  Elapsed: 0:05:32.\n",
      "Batch   560 of 2,132.  Elapsed: 0:05:58.\n",
      "Batch   600 of 2,132.  Elapsed: 0:06:24.\n",
      "Batch   640 of 2,132.  Elapsed: 0:06:49.\n",
      "Batch   680 of 2,132.  Elapsed: 0:07:15.\n",
      "Batch   720 of 2,132.  Elapsed: 0:07:40.\n",
      "Batch   760 of 2,132.  Elapsed: 0:08:06.\n",
      "Batch   800 of 2,132.  Elapsed: 0:08:32.\n",
      "Batch   840 of 2,132.  Elapsed: 0:08:57.\n",
      "Batch   880 of 2,132.  Elapsed: 0:09:23.\n",
      "Batch   920 of 2,132.  Elapsed: 0:09:49.\n",
      "Batch   960 of 2,132.  Elapsed: 0:10:14.\n",
      "Batch 1,000 of 2,132.  Elapsed: 0:10:40.\n",
      "Batch 1,040 of 2,132.  Elapsed: 0:11:05.\n",
      "Batch 1,080 of 2,132.  Elapsed: 0:11:31.\n",
      "Batch 1,120 of 2,132.  Elapsed: 0:11:57.\n",
      "Batch 1,160 of 2,132.  Elapsed: 0:12:22.\n",
      "Batch 1,200 of 2,132.  Elapsed: 0:12:48.\n",
      "Batch 1,240 of 2,132.  Elapsed: 0:13:13.\n",
      "Batch 1,280 of 2,132.  Elapsed: 0:13:39.\n",
      "Batch 1,320 of 2,132.  Elapsed: 0:14:04.\n",
      "Batch 1,360 of 2,132.  Elapsed: 0:14:30.\n",
      "Batch 1,400 of 2,132.  Elapsed: 0:14:56.\n",
      "Batch 1,440 of 2,132.  Elapsed: 0:15:21.\n",
      "Batch 1,480 of 2,132.  Elapsed: 0:15:47.\n",
      "Batch 1,520 of 2,132.  Elapsed: 0:16:13.\n",
      "Batch 1,560 of 2,132.  Elapsed: 0:16:38.\n",
      "Batch 1,600 of 2,132.  Elapsed: 0:17:04.\n",
      "Batch 1,640 of 2,132.  Elapsed: 0:17:29.\n",
      "Batch 1,680 of 2,132.  Elapsed: 0:17:55.\n",
      "Batch 1,720 of 2,132.  Elapsed: 0:18:21.\n",
      "Batch 1,760 of 2,132.  Elapsed: 0:18:46.\n",
      "Batch 1,800 of 2,132.  Elapsed: 0:19:12.\n",
      "Batch 1,840 of 2,132.  Elapsed: 0:19:37.\n",
      "Batch 1,880 of 2,132.  Elapsed: 0:20:03.\n",
      "Batch 1,920 of 2,132.  Elapsed: 0:20:29.\n",
      "Batch 1,960 of 2,132.  Elapsed: 0:20:54.\n",
      "Batch 2,000 of 2,132.  Elapsed: 0:21:20.\n",
      "Batch 2,040 of 2,132.  Elapsed: 0:21:46.\n",
      "Batch 2,080 of 2,132.  Elapsed: 0:22:11.\n",
      "Batch 2,120 of 2,132.  Elapsed: 0:22:37.\n",
      "Saving model to ./drive/My Drive/playground/model_save/debias/full/lr_2e-05_eps_1e-08/epoch_6/\n",
      "\n",
      "  Average training loss: 0.01\n",
      "  Training epcoh took: 0:22:46\n",
      "\n",
      "Running Validation...\n",
      "  Average evaluation loss: 0.01\n",
      "  Accuracy: 0.52\n",
      "  Validation took: 0:03:13\n",
      "\n",
      "======== Epoch 8 / 8 ========\n",
      "Training...\n",
      "Batch    40 of 2,132.  Elapsed: 0:00:26.\n",
      "Batch    80 of 2,132.  Elapsed: 0:00:51.\n",
      "Batch   120 of 2,132.  Elapsed: 0:01:17.\n",
      "Batch   160 of 2,132.  Elapsed: 0:01:42.\n",
      "Batch   200 of 2,132.  Elapsed: 0:02:08.\n",
      "Batch   240 of 2,132.  Elapsed: 0:02:34.\n",
      "Batch   280 of 2,132.  Elapsed: 0:02:59.\n",
      "Batch   320 of 2,132.  Elapsed: 0:03:25.\n",
      "Batch   360 of 2,132.  Elapsed: 0:03:50.\n",
      "Batch   400 of 2,132.  Elapsed: 0:04:16.\n",
      "Batch   440 of 2,132.  Elapsed: 0:04:42.\n",
      "Batch   480 of 2,132.  Elapsed: 0:05:07.\n",
      "Batch   520 of 2,132.  Elapsed: 0:05:33.\n",
      "Batch   560 of 2,132.  Elapsed: 0:05:58.\n",
      "Batch   600 of 2,132.  Elapsed: 0:06:24.\n",
      "Batch   640 of 2,132.  Elapsed: 0:06:49.\n",
      "Batch   680 of 2,132.  Elapsed: 0:07:15.\n",
      "Batch   720 of 2,132.  Elapsed: 0:07:41.\n",
      "Batch   760 of 2,132.  Elapsed: 0:08:06.\n",
      "Batch   800 of 2,132.  Elapsed: 0:08:32.\n",
      "Batch   840 of 2,132.  Elapsed: 0:08:57.\n",
      "Batch   880 of 2,132.  Elapsed: 0:09:23.\n",
      "Batch   920 of 2,132.  Elapsed: 0:09:49.\n",
      "Batch   960 of 2,132.  Elapsed: 0:10:14.\n",
      "Batch 1,000 of 2,132.  Elapsed: 0:10:40.\n",
      "Batch 1,040 of 2,132.  Elapsed: 0:11:05.\n",
      "Batch 1,080 of 2,132.  Elapsed: 0:11:31.\n",
      "Batch 1,120 of 2,132.  Elapsed: 0:11:57.\n",
      "Batch 1,160 of 2,132.  Elapsed: 0:12:22.\n",
      "Batch 1,200 of 2,132.  Elapsed: 0:12:48.\n",
      "Batch 1,240 of 2,132.  Elapsed: 0:13:13.\n",
      "Batch 1,280 of 2,132.  Elapsed: 0:13:39.\n",
      "Batch 1,320 of 2,132.  Elapsed: 0:14:04.\n",
      "Batch 1,360 of 2,132.  Elapsed: 0:14:30.\n",
      "Batch 1,400 of 2,132.  Elapsed: 0:14:55.\n",
      "Batch 1,440 of 2,132.  Elapsed: 0:15:21.\n",
      "Batch 1,480 of 2,132.  Elapsed: 0:15:47.\n",
      "Batch 1,520 of 2,132.  Elapsed: 0:16:12.\n",
      "Batch 1,560 of 2,132.  Elapsed: 0:16:38.\n",
      "Batch 1,600 of 2,132.  Elapsed: 0:17:03.\n",
      "Batch 1,640 of 2,132.  Elapsed: 0:17:29.\n",
      "Batch 1,680 of 2,132.  Elapsed: 0:17:55.\n",
      "Batch 1,720 of 2,132.  Elapsed: 0:18:20.\n",
      "Batch 1,760 of 2,132.  Elapsed: 0:18:46.\n",
      "Batch 1,800 of 2,132.  Elapsed: 0:19:11.\n",
      "Batch 1,840 of 2,132.  Elapsed: 0:19:37.\n",
      "Batch 1,880 of 2,132.  Elapsed: 0:20:02.\n",
      "Batch 1,920 of 2,132.  Elapsed: 0:20:28.\n",
      "Batch 1,960 of 2,132.  Elapsed: 0:20:54.\n",
      "Batch 2,000 of 2,132.  Elapsed: 0:21:19.\n",
      "Batch 2,040 of 2,132.  Elapsed: 0:21:45.\n",
      "Batch 2,080 of 2,132.  Elapsed: 0:22:10.\n",
      "Batch 2,120 of 2,132.  Elapsed: 0:22:36.\n",
      "Saving model to ./drive/My Drive/playground/model_save/debias/full/lr_2e-05_eps_1e-08/epoch_7/\n",
      "\n",
      "  Average training loss: 0.01\n",
      "  Training epcoh took: 0:22:45\n",
      "\n",
      "Running Validation...\n",
      "  Average evaluation loss: 0.01\n",
      "  Accuracy: 0.50\n",
      "  Validation took: 0:03:14\n",
      "\n",
      "Training complete!\n"
     ]
    }
   ],
   "source": [
    "import random\n",
    "from tqdm import tqdm\n",
    "\n",
    "# This training code is based on the `run_glue.py` script here:\n",
    "# https://github.com/huggingface/transformers/blob/5bfcd0485ece086ebcbed2d008813037968a9e58/examples/run_glue.py#L128\n",
    "\n",
    "\n",
    "# Set the seed value all over the place to make this reproducible.\n",
    "seed_val = 42\n",
    "\n",
    "random.seed(seed_val)\n",
    "np.random.seed(seed_val)\n",
    "torch.manual_seed(seed_val)\n",
    "torch.cuda.manual_seed_all(seed_val)\n",
    "\n",
    "# Store the average loss after each epoch so we can plot them.\n",
    "training_loss_values = []\n",
    "eval_loss_values = []\n",
    "\n",
    "# For each epoch...\n",
    "for epoch_i in range(2, epochs):\n",
    "    \n",
    "    # ========================================\n",
    "    #               Training\n",
    "    # ========================================\n",
    "    \n",
    "    # Perform one full pass over the training set.\n",
    "\n",
    "    print(\"\")\n",
    "    print('======== Epoch {:} / {:} ========'.format(epoch_i + 1, epochs))\n",
    "    print('Training...')\n",
    "\n",
    "    # Measure how long the training epoch takes.\n",
    "    t0 = time.time()\n",
    "\n",
    "    # Reset the total loss for this epoch.\n",
    "    total_loss = 0\n",
    "\n",
    "    # Put the model into training mode. Don't be mislead--the call to \n",
    "    # `train` just changes the *mode*, it doesn't *perform* the training.\n",
    "    # `dropout` and `batchnorm` layers behave differently during training\n",
    "    # vs. test (source: https://stackoverflow.com/questions/51433378/what-does-model-train-do-in-pytorch)\n",
    "    model.train()\n",
    "\n",
    "    # For each batch of training data...\n",
    "    for step, batch in enumerate(train_dataloader):\n",
    "\n",
    "        # Progress update every 20 batches.\n",
    "        if step % 40 == 0 and not step == 0:\n",
    "            # Calculate elapsed time in minutes.\n",
    "            elapsed = format_time(time.time() - t0)\n",
    "            \n",
    "            # Report progress.\n",
    "            print('Batch {:>5,} of {:>5,}.  Elapsed: {:}.'.format(step, len(train_dataloader), elapsed))\n",
    "\n",
    "        # Unpack this training batch from our dataloader. \n",
    "        #\n",
    "        # As we unpack the batch, we'll also copy each tensor to the GPU using the \n",
    "        # `to` method.\n",
    "        #\n",
    "        # `batch` contains three pytorch tensors:\n",
    "        #   [0]: input ids \n",
    "        #   [1]: attention masks\n",
    "        #   [2]: labels \n",
    "        #   [3]: segments \n",
    "        b_input_ids = batch[0].to(device)\n",
    "        b_input_mask = batch[1].to(device)\n",
    "        b_labels = batch[2].to(device)\n",
    "\n",
    "\n",
    "        # Always clear any previously calculated gradients before performing a\n",
    "        # backward pass. PyTorch doesn't do this automatically because \n",
    "        # accumulating the gradients is \"convenient while training RNNs\". \n",
    "        # (source: https://stackoverflow.com/questions/48001598/why-do-we-need-to-call-zero-grad-in-pytorch)\n",
    "        model.zero_grad()        \n",
    "\n",
    "        # Perform a forward pass (evaluate the model on this training batch).\n",
    "        # This will return the loss (rather than the model output) because we\n",
    "        # have provided the `labels`.\n",
    "        # The documentation for this `model` function is here: \n",
    "        # https://huggingface.co/transformers/v2.2.0/model_doc/bert.html#transformers.BertForSequenceClassification\n",
    "        outputs = model(b_input_ids, \n",
    "                    # token_type_ids=b_segments,\n",
    "                    attention_mask=b_input_mask, \n",
    "                    masked_lm_labels=b_labels)\n",
    "        \n",
    "        # The call to `model` always returns a tuple, so we need to pull the \n",
    "        # loss value out of the tuple.\n",
    "        loss = outputs[0]\n",
    "\n",
    "        # Accumulate the training loss over all of the batches so that we can\n",
    "        # calculate the average loss at the end. `loss` is a Tensor containing a\n",
    "        # single value; the `.item()` function just returns the Python value \n",
    "        # from the tensor.\n",
    "        total_loss += loss.item()\n",
    "\n",
    "        # Perform a backward pass to calculate the gradients.\n",
    "        loss.backward()\n",
    "\n",
    "        # Clip the norm of the gradients to 1.0.\n",
    "        # This is to help prevent the \"exploding gradients\" problem.\n",
    "        torch.nn.utils.clip_grad_norm_(model.parameters(), 1.0)\n",
    "\n",
    "        # Update parameters and take a step using the computed gradient.\n",
    "        # The optimizer dictates the \"update rule\"--how the parameters are\n",
    "        # modified based on their gradients, the learning rate, etc.\n",
    "        optimizer.step()\n",
    "\n",
    "        # Update the learning rate.\n",
    "        scheduler.step()\n",
    "\n",
    "    # Calculate the average loss over the training data.\n",
    "    avg_train_loss = total_loss / len(train_dataloader)            \n",
    "    \n",
    "    # Store the loss value for plotting the learning curve.\n",
    "    training_loss_values.append(avg_train_loss)\n",
    "    save_model(model, epoch_i, lr, eps)\n",
    "\n",
    "    print(\"\")\n",
    "    print(\"  Average training loss: {0:.2f}\".format(avg_train_loss))\n",
    "    print(\"  Training epcoh took: {:}\".format(format_time(time.time() - t0)))\n",
    "        \n",
    "    # ========================================\n",
    "    #               Validation\n",
    "    # ========================================\n",
    "    # After the completion of each training epoch, measure our performance on\n",
    "    # our validation set.\n",
    "\n",
    "    print(\"\")\n",
    "    print(\"Running Validation...\")\n",
    "\n",
    "    t0 = time.time()\n",
    "\n",
    "    # Put the model in evaluation mode--the dropout layers behave differently\n",
    "    # during evaluation.\n",
    "    model.eval()\n",
    "\n",
    "    # Tracking variables \n",
    "    eval_loss, eval_accuracy = 0, 0\n",
    "    nb_eval_steps, nb_eval_examples = 0, 0\n",
    "\n",
    "    # Evaluate data for one epoch\n",
    "    for batch in validation_dataloader:\n",
    "        \n",
    "        # Add batch to GPU\n",
    "        b_input_ids = batch[0].to(device)\n",
    "        b_input_mask = batch[1].to(device)\n",
    "        b_labels = batch[2].to(device)\n",
    "        \n",
    "        # Telling the model not to compute or store gradients, saving memory and\n",
    "        # speeding up validation\n",
    "        with torch.no_grad():        \n",
    "\n",
    "            # Forward pass, calculate logit predictions.\n",
    "            # This will return the logits rather than the loss because we have\n",
    "            # not provided labels.\n",
    "            # token_type_ids is the same as the \"segment ids\", which \n",
    "            # differentiates sentence 1 and 2 in 2-sentence tasks.\n",
    "            # The documentation for this `model` function is here: \n",
    "            # https://huggingface.co/transformers/v2.2.0/model_doc/bert.html#transformers.BertForSequenceClassification\n",
    "          outputs = model(b_input_ids, \n",
    "                      # token_type_ids=b_segments,\n",
    "                      attention_mask=b_input_mask,\n",
    "                      masked_lm_labels=b_labels)\n",
    "        \n",
    "        # Get testing loss\n",
    "        loss = outputs[0]\n",
    "        eval_loss += loss.item()\n",
    "\n",
    "        # Get the \"logits\" output by the model. The \"logits\" are the output\n",
    "        # values prior to applying an activation function like the softmax.\n",
    "        logits = outputs[1]        \n",
    "\n",
    "        # Move logits and labels to CPU\n",
    "        logits = logits.detach().cpu().numpy()\n",
    "        label_ids = b_labels.to('cpu').numpy()\n",
    "        \n",
    "        # Calculate the accuracy for this batch of test sentences.\n",
    "        tmp_eval_accuracy = flat_accuracy(logits, label_ids)\n",
    "        \n",
    "        # Accumulate the total accuracy.\n",
    "        eval_accuracy += tmp_eval_accuracy\n",
    "\n",
    "        # Track the number of batches\n",
    "        nb_eval_steps += 1\n",
    "\n",
    "    # Calculate the average loss over the training data.\n",
    "    avg_eval_loss = eval_loss / len(validation_dataloader)            \n",
    "    eval_loss_values.append(avg_eval_loss)\n",
    "\n",
    "\n",
    "    # Report the final accuracy for this validation run.\n",
    "    print(\"  Average evaluation loss: {0:.2f}\".format(avg_eval_loss))\n",
    "    print(\"  Accuracy: {0:.2f}\".format(eval_accuracy/nb_eval_steps))\n",
    "    print(\"  Validation took: {:}\".format(format_time(time.time() - t0)))\n",
    "\n",
    "print(\"\")\n",
    "print(\"Training complete!\")"
   ]
  },
  {
   "cell_type": "markdown",
   "metadata": {
    "colab_type": "text",
    "id": "1-G03mmwH3aI"
   },
   "source": [
    "Let's take a look at our training loss over all batches:"
   ]
  },
  {
   "cell_type": "code",
   "execution_count": 0,
   "metadata": {
    "colab": {},
    "colab_type": "code",
    "collapsed": true,
    "id": "68xreA9JAmG5"
   },
   "outputs": [],
   "source": [
    "import matplotlib.pyplot as plt\n",
    "% matplotlib inline\n",
    "\n",
    "import seaborn as sns\n",
    "\n",
    "# Use plot styling from seaborn.\n",
    "sns.set(style='darkgrid')\n",
    "\n",
    "# Increase the plot size and font size.\n",
    "sns.set(font_scale=1.5)\n",
    "plt.rcParams[\"figure.figsize\"] = (12,6)\n",
    "\n",
    "# Plot the learning curve.\n",
    "plt.plot(training_loss_values, 'b-o')\n",
    "plt.plot(eval_loss_values, 'r-o')\n",
    "\n",
    "\n",
    "# Label the plot.\n",
    "plt.title(\"Training loss\")\n",
    "plt.xlabel(\"Epoch\")\n",
    "plt.ylabel(\"Loss\")\n",
    "\n",
    "plt.show()"
   ]
  },
  {
   "cell_type": "markdown",
   "metadata": {
    "colab_type": "text",
    "id": "GfjYoa6WmkN6"
   },
   "source": [
    "# Conclusion"
   ]
  },
  {
   "cell_type": "markdown",
   "metadata": {
    "colab_type": "text",
    "id": "xlQG7qgkmf4n"
   },
   "source": [
    "This post demonstrates that with a pre-trained BERT model you can quickly and effectively create a high quality model with minimal effort and training time using the pytorch interface, regardless of the specific NLP task you are interested in."
   ]
  },
  {
   "cell_type": "markdown",
   "metadata": {
    "colab_type": "text",
    "id": "YUmsUOIv8EUO"
   },
   "source": [
    "# Appendix\n"
   ]
  },
  {
   "cell_type": "markdown",
   "metadata": {
    "colab_type": "text",
    "id": "q2079Qyn8Mt8"
   },
   "source": [
    "## A1. Saving & Loading Fine-Tuned Model\n",
    "\n",
    "This first cell (taken from `run_glue.py` [here](https://github.com/huggingface/transformers/blob/35ff345fc9df9e777b27903f11fa213e4052595b/examples/run_glue.py#L495)) writes the model and tokenizer out to disk."
   ]
  },
  {
   "cell_type": "code",
   "execution_count": 0,
   "metadata": {
    "colab": {},
    "colab_type": "code",
    "collapsed": true,
    "id": "6ulTWaOr8QNY"
   },
   "outputs": [],
   "source": [
    "import os\n",
    "\n",
    "# Saving best-practices: if you use defaults names for the model, you can reload it using from_pretrained()\n",
    "def save_model(processed_model, epoch, lr, eps):\n",
    "  output_dir = './drive/My Drive/UCL/NLP/model_save/bias/epoch_{}_lr_{}_eps_{}/'.format(epoch, lr, eps)\n",
    "\n",
    "  # Create output directory if needed\n",
    "  if not os.path.exists(output_dir):\n",
    "      os.makedirs(output_dir)\n",
    "\n",
    "  print(\"Saving model to %s\" % output_dir)\n",
    "\n",
    "  # Save a trained model, configuration and tokenizer using `save_pretrained()`.\n",
    "  # They can then be reloaded using `from_pretrained()`\n",
    "  model_to_save = processed_model.module if hasattr(processed_model, 'module') else processed_model  # Take care of distributed/parallel training\n",
    "  model_to_save.save_pretrained(output_dir)\n",
    "  tokenizer.save_pretrained(output_dir)\n",
    "\n",
    "  # Good practice: save your training arguments together with the trained model\n",
    "  torch.save([epoch, lr, eps], os.path.join(output_dir, 'training_args.bin'))"
   ]
  },
  {
   "cell_type": "code",
   "execution_count": 0,
   "metadata": {
    "colab": {},
    "colab_type": "code",
    "collapsed": true,
    "id": "JLeZSfbgR8la"
   },
   "outputs": [],
   "source": [
    "save_model(model, 2, 0.01, 0.005)"
   ]
  },
  {
   "cell_type": "markdown",
   "metadata": {
    "colab_type": "text",
    "id": "Z-tjHkR7lc1I"
   },
   "source": [
    "Let's check out the file sizes, out of curiosity."
   ]
  },
  {
   "cell_type": "code",
   "execution_count": 0,
   "metadata": {
    "colab": {},
    "colab_type": "code",
    "collapsed": true,
    "id": "mqMzI3VTCZo5"
   },
   "outputs": [],
   "source": [
    "!ls -l --block-size=K ./model_save/"
   ]
  },
  {
   "cell_type": "markdown",
   "metadata": {
    "colab_type": "text",
    "id": "fr_bt2rFlgDn"
   },
   "source": [
    "The largest file is the model weights, at around 418 megabytes."
   ]
  },
  {
   "cell_type": "code",
   "execution_count": 0,
   "metadata": {
    "colab": {},
    "colab_type": "code",
    "collapsed": true,
    "id": "-WUFUIQ8Cu8D"
   },
   "outputs": [],
   "source": [
    "!ls -l --block-size=M ./model_save/pytorch_model.bin"
   ]
  },
  {
   "cell_type": "markdown",
   "metadata": {
    "colab_type": "text",
    "id": "dzGKvOFAll_e"
   },
   "source": [
    "To save your model across Colab Notebook sessions, download it to your local machine, or ideally copy it to your Google Drive."
   ]
  },
  {
   "cell_type": "code",
   "execution_count": 0,
   "metadata": {
    "colab": {},
    "colab_type": "code",
    "collapsed": true,
    "id": "Trr-A-POC18_"
   },
   "outputs": [],
   "source": [
    "# Mount Google Drive to this Notebook instance.\n",
    "from google.colab import drive\n",
    "    drive.mount('/content/drive')"
   ]
  },
  {
   "cell_type": "code",
   "execution_count": 0,
   "metadata": {
    "colab": {},
    "colab_type": "code",
    "collapsed": true,
    "id": "NxlZsafTC-V5"
   },
   "outputs": [],
   "source": [
    "# Copy the model files to a directory in your Google Drive.\n",
    "!cp -r ./model_save/ \"./drive/Shared drives/ChrisMcCormick.AI/Blog Posts/BERT Fine-Tuning/\""
   ]
  },
  {
   "cell_type": "markdown",
   "metadata": {
    "colab_type": "text",
    "id": "W0vstijw85SZ"
   },
   "source": [
    "The following functions will load the model back from disk."
   ]
  },
  {
   "cell_type": "code",
   "execution_count": 0,
   "metadata": {
    "colab": {},
    "colab_type": "code",
    "collapsed": true,
    "id": "nskPzUM084zL"
   },
   "outputs": [],
   "source": [
    "# Load a trained model and vocabulary that you have fine-tuned\n",
    "model = BertForMaskedLM.from_pretrained('./drive/My Drive/playground/model_save/bias/epoch_2_lr_0.01_eps_0.005/')\n",
    "tokenizer = BertTokenizer.from_pretrained('./drive/My Drive/playground/model_save/bias/epoch_2_lr_0.01_eps_0.005/')\n",
    "\n",
    "# Copy the model to the GPU.\n",
    "model.to(device)"
   ]
  },
  {
   "cell_type": "markdown",
   "metadata": {
    "colab_type": "text",
    "id": "uswNKai0I6Cp"
   },
   "source": [
    "## A.2. Weight Decay (this was not used\n",
    "\n"
   ]
  },
  {
   "cell_type": "markdown",
   "metadata": {
    "colab_type": "text",
    "id": "f123ZAlF1OyW"
   },
   "source": [
    "The huggingface example includes the following code block for enabling weight decay, but the default decay rate is \"0.0\", so I moved this to the appendix.\n",
    "\n",
    "This block essentially tells the optimizer to not apply weight decay to the bias terms (e.g., $ b $ in the equation $ y = Wx + b $ ). Weight decay is a form of regularization--after calculating the gradients, we multiply them by, e.g., 0.99."
   ]
  },
  {
   "cell_type": "code",
   "execution_count": 0,
   "metadata": {
    "colab": {},
    "colab_type": "code",
    "collapsed": true,
    "id": "QxSMw0FrptiL"
   },
   "outputs": [],
   "source": [
    "# This code is taken from:\n",
    "# https://github.com/huggingface/transformers/blob/5bfcd0485ece086ebcbed2d008813037968a9e58/examples/run_glue.py#L102\n",
    "\n",
    "# Don't apply weight decay to any parameters whose names include these tokens.\n",
    "# (Here, the BERT doesn't have `gamma` or `beta` parameters, only `bias` terms)\n",
    "no_decay = ['bias', 'LayerNorm.weight']\n",
    "\n",
    "# Separate the `weight` parameters from the `bias` parameters. \n",
    "# - For the `weight` parameters, this specifies a 'weight_decay_rate' of 0.01. \n",
    "# - For the `bias` parameters, the 'weight_decay_rate' is 0.0. \n",
    "optimizer_grouped_parameters = [\n",
    "    # Filter for all parameters which *don't* include 'bias', 'gamma', 'beta'.\n",
    "    {'params': [p for n, p in param_optimizer if not any(nd in n for nd in no_decay)],\n",
    "     'weight_decay_rate': 0.1},\n",
    "    \n",
    "    # Filter for parameters which *do* include those.\n",
    "    {'params': [p for n, p in param_optimizer if any(nd in n for nd in no_decay)],\n",
    "     'weight_decay_rate': 0.0}\n",
    "]\n",
    "\n",
    "# Note - `optimizer_grouped_parameters` only includes the parameter values, not \n",
    "# the names."
   ]
  }
 ],
 "metadata": {
  "accelerator": "GPU",
  "colab": {
   "collapsed_sections": [],
   "name": "DEBIAS_2_BERT_fine_tuning_full_ontonotes.ipynb",
   "provenance": [],
   "toc_visible": true
  },
  "kernelspec": {
   "display_name": "Python 3",
   "language": "python",
   "name": "python3"
  },
  "language_info": {
   "codemirror_mode": {
    "name": "ipython",
    "version": 3
   },
   "file_extension": ".py",
   "mimetype": "text/x-python",
   "name": "python",
   "nbconvert_exporter": "python",
   "pygments_lexer": "ipython3",
   "version": "3.6.0"
  }
 },
 "nbformat": 4,
 "nbformat_minor": 0
}
